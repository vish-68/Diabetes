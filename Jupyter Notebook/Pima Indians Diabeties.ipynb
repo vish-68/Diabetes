{
 "cells": [
  {
   "cell_type": "code",
   "execution_count": 1,
   "id": "dfcc45db",
   "metadata": {},
   "outputs": [],
   "source": [
    "# importing basic library:\n",
    "import numpy as np\n",
    "import pandas as pd \n",
    "\n",
    "# for visualizattion:\n",
    "import matplotlib.pyplot as plt\n",
    "import seaborn as sns\n",
    "\n",
    "# for ignoring warnings:\n",
    "import warnings\n",
    "warnings.filterwarnings(\"ignore\")\n",
    "\n",
    "# for splitting data and Cross-validation:\n",
    "from sklearn.model_selection import train_test_split, KFold, cross_val_score\n",
    "\n",
    "# for preprocessing:\n",
    "from sklearn.preprocessing import LabelEncoder, MinMaxScaler, StandardScaler\n",
    "\n",
    "# for predictive modeling\n",
    "from sklearn.linear_model import LogisticRegression, SGDClassifier\n",
    "\n",
    "from sklearn.svm import SVC\n",
    "\n",
    "from sklearn.neighbors import KNeighborsClassifier\n",
    "\n",
    "from sklearn.tree import DecisionTreeClassifier\n",
    "\n",
    "from sklearn.ensemble import ExtraTreesClassifier, RandomForestClassifier, AdaBoostClassifier, GradientBoostingClassifier, VotingClassifier\n",
    "\n",
    "from xgboost import XGBClassifier\n",
    "\n",
    "# for auc:\n",
    "from sklearn import metrics\n",
    "\n",
    "# for evaluation matrix:\n",
    "from sklearn.metrics import accuracy_score, confusion_matrix, classification_report\n",
    "\n",
    "# for dumping model\n",
    "import pickle"
   ]
  },
  {
   "cell_type": "code",
   "execution_count": 2,
   "id": "8a0742e0",
   "metadata": {},
   "outputs": [],
   "source": [
    "diabeties= pd.read_csv(r\"Pima Indians Diabeties.csv\", header=0)"
   ]
  },
  {
   "cell_type": "code",
   "execution_count": 3,
   "id": "9e4bdf44",
   "metadata": {},
   "outputs": [
    {
     "name": "stdout",
     "output_type": "stream",
     "text": [
      "(768, 9)\n"
     ]
    },
    {
     "data": {
      "text/html": [
       "<div>\n",
       "<style scoped>\n",
       "    .dataframe tbody tr th:only-of-type {\n",
       "        vertical-align: middle;\n",
       "    }\n",
       "\n",
       "    .dataframe tbody tr th {\n",
       "        vertical-align: top;\n",
       "    }\n",
       "\n",
       "    .dataframe thead th {\n",
       "        text-align: right;\n",
       "    }\n",
       "</style>\n",
       "<table border=\"1\" class=\"dataframe\">\n",
       "  <thead>\n",
       "    <tr style=\"text-align: right;\">\n",
       "      <th></th>\n",
       "      <th>Pregnancies</th>\n",
       "      <th>Glucose</th>\n",
       "      <th>BloodPressure</th>\n",
       "      <th>SkinThickness</th>\n",
       "      <th>Insulin</th>\n",
       "      <th>BMI</th>\n",
       "      <th>DiabetesPedigreeFunction</th>\n",
       "      <th>Age</th>\n",
       "      <th>Outcome</th>\n",
       "    </tr>\n",
       "  </thead>\n",
       "  <tbody>\n",
       "    <tr>\n",
       "      <th>0</th>\n",
       "      <td>6</td>\n",
       "      <td>148</td>\n",
       "      <td>72</td>\n",
       "      <td>35</td>\n",
       "      <td>0</td>\n",
       "      <td>33.6</td>\n",
       "      <td>0.627</td>\n",
       "      <td>50</td>\n",
       "      <td>1</td>\n",
       "    </tr>\n",
       "    <tr>\n",
       "      <th>1</th>\n",
       "      <td>1</td>\n",
       "      <td>85</td>\n",
       "      <td>66</td>\n",
       "      <td>29</td>\n",
       "      <td>0</td>\n",
       "      <td>26.6</td>\n",
       "      <td>0.351</td>\n",
       "      <td>31</td>\n",
       "      <td>0</td>\n",
       "    </tr>\n",
       "    <tr>\n",
       "      <th>2</th>\n",
       "      <td>8</td>\n",
       "      <td>183</td>\n",
       "      <td>64</td>\n",
       "      <td>0</td>\n",
       "      <td>0</td>\n",
       "      <td>23.3</td>\n",
       "      <td>0.672</td>\n",
       "      <td>32</td>\n",
       "      <td>1</td>\n",
       "    </tr>\n",
       "    <tr>\n",
       "      <th>3</th>\n",
       "      <td>1</td>\n",
       "      <td>89</td>\n",
       "      <td>66</td>\n",
       "      <td>23</td>\n",
       "      <td>94</td>\n",
       "      <td>28.1</td>\n",
       "      <td>0.167</td>\n",
       "      <td>21</td>\n",
       "      <td>0</td>\n",
       "    </tr>\n",
       "    <tr>\n",
       "      <th>4</th>\n",
       "      <td>0</td>\n",
       "      <td>137</td>\n",
       "      <td>40</td>\n",
       "      <td>35</td>\n",
       "      <td>168</td>\n",
       "      <td>43.1</td>\n",
       "      <td>2.288</td>\n",
       "      <td>33</td>\n",
       "      <td>1</td>\n",
       "    </tr>\n",
       "  </tbody>\n",
       "</table>\n",
       "</div>"
      ],
      "text/plain": [
       "   Pregnancies  Glucose  BloodPressure  SkinThickness  Insulin   BMI  \\\n",
       "0            6      148             72             35        0  33.6   \n",
       "1            1       85             66             29        0  26.6   \n",
       "2            8      183             64              0        0  23.3   \n",
       "3            1       89             66             23       94  28.1   \n",
       "4            0      137             40             35      168  43.1   \n",
       "\n",
       "   DiabetesPedigreeFunction  Age  Outcome  \n",
       "0                     0.627   50        1  \n",
       "1                     0.351   31        0  \n",
       "2                     0.672   32        1  \n",
       "3                     0.167   21        0  \n",
       "4                     2.288   33        1  "
      ]
     },
     "execution_count": 3,
     "metadata": {},
     "output_type": "execute_result"
    }
   ],
   "source": [
    "print(diabeties.shape)\n",
    "diabeties.head()"
   ]
  },
  {
   "cell_type": "code",
   "execution_count": 4,
   "id": "7beee460",
   "metadata": {},
   "outputs": [
    {
     "name": "stdout",
     "output_type": "stream",
     "text": [
      "<class 'pandas.core.frame.DataFrame'>\n",
      "RangeIndex: 768 entries, 0 to 767\n",
      "Data columns (total 9 columns):\n",
      " #   Column                    Non-Null Count  Dtype  \n",
      "---  ------                    --------------  -----  \n",
      " 0   Pregnancies               768 non-null    int64  \n",
      " 1   Glucose                   768 non-null    int64  \n",
      " 2   BloodPressure             768 non-null    int64  \n",
      " 3   SkinThickness             768 non-null    int64  \n",
      " 4   Insulin                   768 non-null    int64  \n",
      " 5   BMI                       768 non-null    float64\n",
      " 6   DiabetesPedigreeFunction  768 non-null    float64\n",
      " 7   Age                       768 non-null    int64  \n",
      " 8   Outcome                   768 non-null    int64  \n",
      "dtypes: float64(2), int64(7)\n",
      "memory usage: 54.1 KB\n"
     ]
    }
   ],
   "source": [
    "diabeties.info()"
   ]
  },
  {
   "cell_type": "code",
   "execution_count": 5,
   "id": "72d20896",
   "metadata": {},
   "outputs": [
    {
     "data": {
      "text/html": [
       "<div>\n",
       "<style scoped>\n",
       "    .dataframe tbody tr th:only-of-type {\n",
       "        vertical-align: middle;\n",
       "    }\n",
       "\n",
       "    .dataframe tbody tr th {\n",
       "        vertical-align: top;\n",
       "    }\n",
       "\n",
       "    .dataframe thead th {\n",
       "        text-align: right;\n",
       "    }\n",
       "</style>\n",
       "<table border=\"1\" class=\"dataframe\">\n",
       "  <thead>\n",
       "    <tr style=\"text-align: right;\">\n",
       "      <th></th>\n",
       "      <th>Pregnancies</th>\n",
       "      <th>Glucose</th>\n",
       "      <th>BloodPressure</th>\n",
       "      <th>SkinThickness</th>\n",
       "      <th>Insulin</th>\n",
       "      <th>BMI</th>\n",
       "      <th>DiabetesPedigreeFunction</th>\n",
       "      <th>Age</th>\n",
       "      <th>Outcome</th>\n",
       "    </tr>\n",
       "  </thead>\n",
       "  <tbody>\n",
       "    <tr>\n",
       "      <th>count</th>\n",
       "      <td>768.000000</td>\n",
       "      <td>768.000000</td>\n",
       "      <td>768.000000</td>\n",
       "      <td>768.000000</td>\n",
       "      <td>768.000000</td>\n",
       "      <td>768.000000</td>\n",
       "      <td>768.000000</td>\n",
       "      <td>768.000000</td>\n",
       "      <td>768.000000</td>\n",
       "    </tr>\n",
       "    <tr>\n",
       "      <th>mean</th>\n",
       "      <td>3.845052</td>\n",
       "      <td>120.894531</td>\n",
       "      <td>69.105469</td>\n",
       "      <td>20.536458</td>\n",
       "      <td>79.799479</td>\n",
       "      <td>31.992578</td>\n",
       "      <td>0.471876</td>\n",
       "      <td>33.240885</td>\n",
       "      <td>0.348958</td>\n",
       "    </tr>\n",
       "    <tr>\n",
       "      <th>std</th>\n",
       "      <td>3.369578</td>\n",
       "      <td>31.972618</td>\n",
       "      <td>19.355807</td>\n",
       "      <td>15.952218</td>\n",
       "      <td>115.244002</td>\n",
       "      <td>7.884160</td>\n",
       "      <td>0.331329</td>\n",
       "      <td>11.760232</td>\n",
       "      <td>0.476951</td>\n",
       "    </tr>\n",
       "    <tr>\n",
       "      <th>min</th>\n",
       "      <td>0.000000</td>\n",
       "      <td>0.000000</td>\n",
       "      <td>0.000000</td>\n",
       "      <td>0.000000</td>\n",
       "      <td>0.000000</td>\n",
       "      <td>0.000000</td>\n",
       "      <td>0.078000</td>\n",
       "      <td>21.000000</td>\n",
       "      <td>0.000000</td>\n",
       "    </tr>\n",
       "    <tr>\n",
       "      <th>25%</th>\n",
       "      <td>1.000000</td>\n",
       "      <td>99.000000</td>\n",
       "      <td>62.000000</td>\n",
       "      <td>0.000000</td>\n",
       "      <td>0.000000</td>\n",
       "      <td>27.300000</td>\n",
       "      <td>0.243750</td>\n",
       "      <td>24.000000</td>\n",
       "      <td>0.000000</td>\n",
       "    </tr>\n",
       "    <tr>\n",
       "      <th>50%</th>\n",
       "      <td>3.000000</td>\n",
       "      <td>117.000000</td>\n",
       "      <td>72.000000</td>\n",
       "      <td>23.000000</td>\n",
       "      <td>30.500000</td>\n",
       "      <td>32.000000</td>\n",
       "      <td>0.372500</td>\n",
       "      <td>29.000000</td>\n",
       "      <td>0.000000</td>\n",
       "    </tr>\n",
       "    <tr>\n",
       "      <th>75%</th>\n",
       "      <td>6.000000</td>\n",
       "      <td>140.250000</td>\n",
       "      <td>80.000000</td>\n",
       "      <td>32.000000</td>\n",
       "      <td>127.250000</td>\n",
       "      <td>36.600000</td>\n",
       "      <td>0.626250</td>\n",
       "      <td>41.000000</td>\n",
       "      <td>1.000000</td>\n",
       "    </tr>\n",
       "    <tr>\n",
       "      <th>max</th>\n",
       "      <td>17.000000</td>\n",
       "      <td>199.000000</td>\n",
       "      <td>122.000000</td>\n",
       "      <td>99.000000</td>\n",
       "      <td>846.000000</td>\n",
       "      <td>67.100000</td>\n",
       "      <td>2.420000</td>\n",
       "      <td>81.000000</td>\n",
       "      <td>1.000000</td>\n",
       "    </tr>\n",
       "  </tbody>\n",
       "</table>\n",
       "</div>"
      ],
      "text/plain": [
       "       Pregnancies     Glucose  BloodPressure  SkinThickness     Insulin  \\\n",
       "count   768.000000  768.000000     768.000000     768.000000  768.000000   \n",
       "mean      3.845052  120.894531      69.105469      20.536458   79.799479   \n",
       "std       3.369578   31.972618      19.355807      15.952218  115.244002   \n",
       "min       0.000000    0.000000       0.000000       0.000000    0.000000   \n",
       "25%       1.000000   99.000000      62.000000       0.000000    0.000000   \n",
       "50%       3.000000  117.000000      72.000000      23.000000   30.500000   \n",
       "75%       6.000000  140.250000      80.000000      32.000000  127.250000   \n",
       "max      17.000000  199.000000     122.000000      99.000000  846.000000   \n",
       "\n",
       "              BMI  DiabetesPedigreeFunction         Age     Outcome  \n",
       "count  768.000000                768.000000  768.000000  768.000000  \n",
       "mean    31.992578                  0.471876   33.240885    0.348958  \n",
       "std      7.884160                  0.331329   11.760232    0.476951  \n",
       "min      0.000000                  0.078000   21.000000    0.000000  \n",
       "25%     27.300000                  0.243750   24.000000    0.000000  \n",
       "50%     32.000000                  0.372500   29.000000    0.000000  \n",
       "75%     36.600000                  0.626250   41.000000    1.000000  \n",
       "max     67.100000                  2.420000   81.000000    1.000000  "
      ]
     },
     "execution_count": 5,
     "metadata": {},
     "output_type": "execute_result"
    }
   ],
   "source": [
    "diabeties.describe()"
   ]
  },
  {
   "cell_type": "code",
   "execution_count": 6,
   "id": "e0eb5d85",
   "metadata": {},
   "outputs": [
    {
     "data": {
      "text/plain": [
       "Pregnancies                 0\n",
       "Glucose                     0\n",
       "BloodPressure               0\n",
       "SkinThickness               0\n",
       "Insulin                     0\n",
       "BMI                         0\n",
       "DiabetesPedigreeFunction    0\n",
       "Age                         0\n",
       "Outcome                     0\n",
       "dtype: int64"
      ]
     },
     "execution_count": 6,
     "metadata": {},
     "output_type": "execute_result"
    }
   ],
   "source": [
    "diabeties.isnull().sum()"
   ]
  },
  {
   "cell_type": "markdown",
   "id": "313d6d6e",
   "metadata": {},
   "source": [
    "# Data Visualization"
   ]
  },
  {
   "cell_type": "code",
   "execution_count": 7,
   "id": "5715da0e",
   "metadata": {
    "scrolled": true
   },
   "outputs": [
    {
     "data": {
      "image/png": "[encoded data removed]",
      "text/plain": [
       "<Figure size 432x288 with 1 Axes>"
      ]
     },
     "metadata": {
      "needs_background": "light"
     },
     "output_type": "display_data"
    },
    {
     "data": {
      "image/png": "[encoded data removed]",
      "text/plain": [
       "<Figure size 432x288 with 1 Axes>"
      ]
     },
     "metadata": {
      "needs_background": "light"
     },
     "output_type": "display_data"
    },
    {
     "data": {
      "image/png": "[encoded data removed]",
      "text/plain": [
       "<Figure size 432x288 with 1 Axes>"
      ]
     },
     "metadata": {
      "needs_background": "light"
     },
     "output_type": "display_data"
    },
    {
     "data": {
      "image/png": "[encoded data removed]",
      "text/plain": [
       "<Figure size 432x288 with 1 Axes>"
      ]
     },
     "metadata": {
      "needs_background": "light"
     },
     "output_type": "display_data"
    },
    {
     "data": {
      "image/png": "[encoded data removed]",
      "text/plain": [
       "<Figure size 432x288 with 1 Axes>"
      ]
     },
     "metadata": {
      "needs_background": "light"
     },
     "output_type": "display_data"
    },
    {
     "data": {
      "image/png": "[encoded data removed]",
      "text/plain": [
       "<Figure size 432x288 with 1 Axes>"
      ]
     },
     "metadata": {
      "needs_background": "light"
     },
     "output_type": "display_data"
    },
    {
     "data": {
      "image/png": "[encoded data removed]",
      "text/plain": [
       "<Figure size 432x288 with 1 Axes>"
      ]
     },
     "metadata": {
      "needs_background": "light"
     },
     "output_type": "display_data"
    },
    {
     "data": {
      "image/png": "[encoded data removed]",
      "text/plain": [
       "<Figure size 432x288 with 1 Axes>"
      ]
     },
     "metadata": {
      "needs_background": "light"
     },
     "output_type": "display_data"
    },
    {
     "data": {
      "image/png": "[encoded data removed]",
      "text/plain": [
       "<Figure size 432x288 with 1 Axes>"
      ]
     },
     "metadata": {
      "needs_background": "light"
     },
     "output_type": "display_data"
    }
   ],
   "source": [
    "for i in diabeties.columns:\n",
    "    diabeties.boxplot(column=i)\n",
    "    plt.show()"
   ]
  },
  {
   "cell_type": "code",
   "execution_count": 8,
   "id": "6dd14ccb",
   "metadata": {},
   "outputs": [
    {
     "data": {
      "text/plain": [
       "<AxesSubplot:xlabel='Outcome', ylabel='count'>"
      ]
     },
     "execution_count": 8,
     "metadata": {},
     "output_type": "execute_result"
    },
    {
     "data": {
      "image/png": "[encoded data removed]",
      "text/plain": [
       "<Figure size 432x288 with 1 Axes>"
      ]
     },
     "metadata": {
      "needs_background": "light"
     },
     "output_type": "display_data"
    }
   ],
   "source": [
    "sns.countplot(x='Outcome', data=diabeties, palette=\"gist_rainbow_r\")"
   ]
  },
  {
   "cell_type": "code",
   "execution_count": 9,
   "id": "36688c18",
   "metadata": {},
   "outputs": [
    {
     "data": {
      "text/plain": [
       "0    500\n",
       "1    268\n",
       "Name: Outcome, dtype: int64"
      ]
     },
     "execution_count": 9,
     "metadata": {},
     "output_type": "execute_result"
    }
   ],
   "source": [
    "diabeties[\"Outcome\"].value_counts()"
   ]
  },
  {
   "cell_type": "markdown",
   "id": "fdeb422e",
   "metadata": {},
   "source": [
    "## Outliers treatment"
   ]
  },
  {
   "cell_type": "code",
   "execution_count": 10,
   "id": "323f8046",
   "metadata": {},
   "outputs": [
    {
     "name": "stdout",
     "output_type": "stream",
     "text": [
      "(764, 9)\n",
      "(4, 9)\n",
      "-6.5\n",
      "3\n",
      "(768, 9)\n"
     ]
    },
    {
     "data": {
      "image/png": "[encoded data removed]",
      "text/plain": [
       "<Figure size 432x288 with 1 Axes>"
      ]
     },
     "metadata": {
      "needs_background": "light"
     },
     "output_type": "display_data"
    }
   ],
   "source": [
    "#for value in colname:\n",
    "q1 = diabeties['Pregnancies'].quantile(0.25) #first quartile value\n",
    "q3 = diabeties['Pregnancies'].quantile(0.75) # third quartile value\n",
    "iqr = q3-q1 #Interquartile range\n",
    "low  = q1-1.5*iqr #acceptable range\n",
    "high = q3+1.5*iqr #acceptable range\n",
    "\n",
    "diabeties_include = diabeties.loc[(diabeties['Pregnancies'] >= low) & \\\n",
    "                                (diabeties['Pregnancies'] <= high)] # meeting the acceptable range\n",
    "diabeties_exclude = diabeties.loc[(diabeties['Pregnancies'] < low) | (diabeties['Pregnancies'] > high)] #not meeting the acceptable range\n",
    "\n",
    "print(diabeties_include.shape)\n",
    "print(diabeties_exclude.shape)\n",
    "\n",
    "print(low)\n",
    "\n",
    "Pregnancies_mean=int(diabeties_include.Pregnancies.mean()) #finding the mean of the acceptable range\n",
    "print(Pregnancies_mean)\n",
    "\n",
    "#imputing outlier values with mean value\n",
    "diabeties_exclude.Pregnancies=Pregnancies_mean\n",
    "\n",
    "#getting back the original shape of df\n",
    "diabeties_rev1=pd.concat([diabeties_include,diabeties_exclude],axis=0) #concatenating both dfs to get \n",
    "#the original shape\n",
    "print(diabeties_rev1.shape)\n",
    "\n",
    "diabeties_rev1.boxplot(column=\"Pregnancies\")\n",
    "plt.show()"
   ]
  },
  {
   "cell_type": "code",
   "execution_count": 11,
   "id": "0972805b",
   "metadata": {},
   "outputs": [
    {
     "name": "stdout",
     "output_type": "stream",
     "text": [
      "(723, 9)\n",
      "(45, 9)\n",
      "35.0\n",
      "72\n",
      "(768, 9)\n"
     ]
    },
    {
     "data": {
      "image/png": "[encoded data removed]",
      "text/plain": [
       "<Figure size 432x288 with 1 Axes>"
      ]
     },
     "metadata": {
      "needs_background": "light"
     },
     "output_type": "display_data"
    }
   ],
   "source": [
    "#for value in colname:\n",
    "q1 = diabeties_rev1['BloodPressure'].quantile(0.25) #first quartile value\n",
    "q3 = diabeties_rev1['BloodPressure'].quantile(0.75) # third quartile value\n",
    "iqr = q3-q1 #Interquartile range\n",
    "low  = q1-1.5*iqr #acceptable range\n",
    "high = q3+1.5*iqr #acceptable range\n",
    "\n",
    "diabeties_rev1_include = diabeties_rev1.loc[(diabeties_rev1['BloodPressure'] >= low) & \\\n",
    "                                (diabeties_rev1['BloodPressure'] <= high)] # meeting the acceptable range\n",
    "diabeties_rev1_exclude = diabeties_rev1.loc[(diabeties_rev1['BloodPressure'] < low) | (diabeties_rev1['BloodPressure'] > high)] #not meeting the acceptable range\n",
    "\n",
    "print(diabeties_rev1_include.shape)\n",
    "print(diabeties_rev1_exclude.shape)\n",
    "\n",
    "print(low)\n",
    "\n",
    "BloodPressure_mean=int(diabeties_rev1_include.BloodPressure.mean()) #finding the mean of the acceptable range\n",
    "print(BloodPressure_mean)\n",
    "\n",
    "#imputing outlier values with mean value\n",
    "diabeties_rev1_exclude.BloodPressure=BloodPressure_mean\n",
    "\n",
    "#getting back the original shape of df\n",
    "diabeties_rev2=pd.concat([diabeties_rev1_include,diabeties_rev1_exclude],axis=0) #concatenating both dfs to get \n",
    "#the original shape\n",
    "print(diabeties_rev2.shape)\n",
    "\n",
    "diabeties_rev2.boxplot(column=[\"BloodPressure\"])\n",
    "plt.show()"
   ]
  },
  {
   "cell_type": "code",
   "execution_count": 12,
   "id": "19af8943",
   "metadata": {},
   "outputs": [
    {
     "name": "stdout",
     "output_type": "stream",
     "text": [
      "(734, 9)\n",
      "(34, 9)\n",
      "-190.875\n",
      "62\n",
      "(768, 9)\n"
     ]
    },
    {
     "data": {
      "image/png": "[encoded data removed]",
      "text/plain": [
       "<Figure size 432x288 with 1 Axes>"
      ]
     },
     "metadata": {
      "needs_background": "light"
     },
     "output_type": "display_data"
    }
   ],
   "source": [
    "#for value in colname:\n",
    "q1 = diabeties_rev2['Insulin'].quantile(0.25) #first quartile value\n",
    "q3 = diabeties_rev2['Insulin'].quantile(0.75) # third quartile value\n",
    "iqr = q3-q1 #Interquartile range\n",
    "low  = q1-1.5*iqr #acceptable range\n",
    "high = q3+1.5*iqr #acceptable range\n",
    "\n",
    "diabeties_rev2_include = diabeties_rev2.loc[(diabeties_rev2['Insulin'] >= low) & \\\n",
    "                                (diabeties_rev2['Insulin'] <= high)] # meeting the acceptable range\n",
    "diabeties_rev2_exclude = diabeties_rev2.loc[(diabeties_rev2['Insulin'] < low) | (diabeties_rev2['Insulin'] > high)] #not meeting the acceptable range\n",
    "\n",
    "print(diabeties_rev2_include.shape)\n",
    "print(diabeties_rev2_exclude.shape)\n",
    "\n",
    "print(low)\n",
    "\n",
    "Insulin_mean=int(diabeties_rev2_include.Insulin.mean()) #finding the mean of the acceptable range\n",
    "print(Insulin_mean)\n",
    "\n",
    "#imputing outlier values with mean value\n",
    "diabeties_rev2_exclude.Insulin=Insulin_mean\n",
    "\n",
    "#getting back the original shape of df\n",
    "diabeties_rev3=pd.concat([diabeties_rev2_include,diabeties_rev2_exclude],axis=0) #concatenating both dfs to get \n",
    "#the original shape\n",
    "print(diabeties_rev3.shape)\n",
    "\n",
    "diabeties_rev3.boxplot(column=[\"Insulin\"])\n",
    "plt.show()"
   ]
  },
  {
   "cell_type": "markdown",
   "id": "9e0595f8",
   "metadata": {},
   "source": [
    "## Upsampling target variable"
   ]
  },
  {
   "cell_type": "code",
   "execution_count": 13,
   "id": "9169aec3",
   "metadata": {},
   "outputs": [],
   "source": [
    "from sklearn.utils import resample\n",
    "\n",
    "# Separate majority and minority classes\n",
    "df_majority = diabeties_rev3[diabeties_rev3[\"Outcome\"]==0]\n",
    "df_minority = diabeties_rev3[diabeties_rev3[\"Outcome\"]==1]\n",
    "\n",
    "# Upsample minority class\n",
    "df_minority_upsampled = resample(df_minority, replace=True, n_samples=500, random_state=10)\n",
    "\n",
    "# Combine majority class with upsampled minority class\n",
    "diabeties_rev = pd.concat([df_majority, df_minority_upsampled])"
   ]
  },
  {
   "cell_type": "code",
   "execution_count": 14,
   "id": "f0972295",
   "metadata": {},
   "outputs": [
    {
     "name": "stdout",
     "output_type": "stream",
     "text": [
      "0    500\n",
      "1    500\n",
      "Name: Outcome, dtype: int64\n"
     ]
    },
    {
     "data": {
      "text/plain": [
       "<AxesSubplot:xlabel='Outcome', ylabel='count'>"
      ]
     },
     "execution_count": 14,
     "metadata": {},
     "output_type": "execute_result"
    },
    {
     "data": {
      "image/png": "[encoded data removed]",
      "text/plain": [
       "<Figure size 432x288 with 1 Axes>"
      ]
     },
     "metadata": {
      "needs_background": "light"
     },
     "output_type": "display_data"
    }
   ],
   "source": [
    "print(diabeties_rev[\"Outcome\"].value_counts())\n",
    "sns.countplot(x='Outcome', data=diabeties_rev, palette=\"gist_rainbow_r\")"
   ]
  },
  {
   "cell_type": "code",
   "execution_count": 15,
   "id": "8ec3b9da",
   "metadata": {},
   "outputs": [
    {
     "name": "stdout",
     "output_type": "stream",
     "text": [
      "(1000, 8) (1000,)\n"
     ]
    }
   ],
   "source": [
    "X= diabeties_rev.iloc[:,:-1]\n",
    "Y= diabeties_rev[\"Outcome\"]\n",
    "print(X.shape, Y.shape)"
   ]
  },
  {
   "cell_type": "markdown",
   "id": "3ede8ae3",
   "metadata": {},
   "source": [
    "# Splitting Data"
   ]
  },
  {
   "cell_type": "code",
   "execution_count": 16,
   "id": "0467e4ea",
   "metadata": {},
   "outputs": [
    {
     "name": "stdout",
     "output_type": "stream",
     "text": [
      "(700, 8) (700,) (300, 8) (300,)\n"
     ]
    }
   ],
   "source": [
    "X_train, X_test, Y_train, Y_test= train_test_split(X, Y, test_size=0.3, random_state=10)\n",
    "print(X_train.shape, Y_train.shape, X_test.shape, Y_test.shape)"
   ]
  },
  {
   "cell_type": "code",
   "execution_count": 17,
   "id": "5dc849f1",
   "metadata": {},
   "outputs": [],
   "source": [
    "scaler= StandardScaler()\n",
    "X_train=scaler.fit_transform(X_train)\n",
    "X_test=scaler.transform(X_test)"
   ]
  },
  {
   "cell_type": "markdown",
   "id": "4de32a5a",
   "metadata": {},
   "source": [
    "# Machine Learning Models"
   ]
  },
  {
   "cell_type": "markdown",
   "id": "fd1e120f",
   "metadata": {},
   "source": [
    "## Logistic Regression"
   ]
  },
  {
   "cell_type": "code",
   "execution_count": 18,
   "id": "f1a9290c",
   "metadata": {},
   "outputs": [
    {
     "name": "stdout",
     "output_type": "stream",
     "text": [
      "Accuracy score:\n",
      " 0.7733333333333333 \n",
      "\n",
      "Confusion matix:\n",
      " [[114  33]\n",
      " [ 35 118]] \n",
      "\n",
      "Classification report\n",
      "               precision    recall  f1-score   support\n",
      "\n",
      "           0       0.77      0.78      0.77       147\n",
      "           1       0.78      0.77      0.78       153\n",
      "\n",
      "    accuracy                           0.77       300\n",
      "   macro avg       0.77      0.77      0.77       300\n",
      "weighted avg       0.77      0.77      0.77       300\n",
      " \n",
      "\n"
     ]
    }
   ],
   "source": [
    "model_log= LogisticRegression()\n",
    "model_log.fit(X_train, Y_train)\n",
    "LR=model_log.predict(X_test)\n",
    "\n",
    "print(\"Accuracy score:\\n\", accuracy_score(Y_test, LR),\"\\n\")\n",
    "print(\"Confusion matix:\\n\", confusion_matrix(Y_test, LR),\"\\n\")\n",
    "print(\"Classification report\\n\", classification_report(Y_test, LR),\"\\n\")"
   ]
  },
  {
   "cell_type": "markdown",
   "id": "3cb9d610",
   "metadata": {},
   "source": [
    "## Stochastic Gradient Descent"
   ]
  },
  {
   "cell_type": "code",
   "execution_count": 19,
   "id": "1a57df80",
   "metadata": {},
   "outputs": [
    {
     "name": "stdout",
     "output_type": "stream",
     "text": [
      "Accuracy score:\n",
      " 0.7866666666666666 \n",
      "\n",
      "Confusion matix:\n",
      " [[120  27]\n",
      " [ 37 116]] \n",
      "\n",
      "Classification report\n",
      "               precision    recall  f1-score   support\n",
      "\n",
      "           0       0.76      0.82      0.79       147\n",
      "           1       0.81      0.76      0.78       153\n",
      "\n",
      "    accuracy                           0.79       300\n",
      "   macro avg       0.79      0.79      0.79       300\n",
      "weighted avg       0.79      0.79      0.79       300\n",
      " \n",
      "\n"
     ]
    }
   ],
   "source": [
    "model_sgd= SGDClassifier(loss=\"log\", random_state=10, alpha=0.01, max_iter=1000, shuffle=True, early_stopping=True, \n",
    "                        n_iter_no_change=3)\n",
    "model_sgd.fit(X_train, Y_train)\n",
    "SGD= model_sgd.predict(X_test)\n",
    "\n",
    "print(\"Accuracy score:\\n\", accuracy_score(Y_test, SGD),\"\\n\")\n",
    "print(\"Confusion matix:\\n\", confusion_matrix(Y_test, SGD),\"\\n\")\n",
    "print(\"Classification report\\n\", classification_report(Y_test, SGD),\"\\n\")"
   ]
  },
  {
   "cell_type": "markdown",
   "id": "0daae0f9",
   "metadata": {},
   "source": [
    "## K-Nearest Neighbors"
   ]
  },
  {
   "cell_type": "code",
   "execution_count": 20,
   "id": "0aac4002",
   "metadata": {},
   "outputs": [
    {
     "name": "stdout",
     "output_type": "stream",
     "text": [
      "Accuracy score:\n",
      " 0.7733333333333333 \n",
      "\n",
      "Confusion matix:\n",
      " [[119  28]\n",
      " [ 40 113]] \n",
      "\n",
      "Classification report\n",
      "               precision    recall  f1-score   support\n",
      "\n",
      "           0       0.75      0.81      0.78       147\n",
      "           1       0.80      0.74      0.77       153\n",
      "\n",
      "    accuracy                           0.77       300\n",
      "   macro avg       0.77      0.77      0.77       300\n",
      "weighted avg       0.78      0.77      0.77       300\n",
      " \n",
      "\n"
     ]
    }
   ],
   "source": [
    "model_KNN= KNeighborsClassifier(n_neighbors=int(np.sqrt(len(X_train))), metric=\"euclidean\")\n",
    "model_KNN.fit(X_train, Y_train)\n",
    "KNN= model_KNN.predict(X_test)\n",
    "\n",
    "print(\"Accuracy score:\\n\", accuracy_score(Y_test, KNN),\"\\n\")\n",
    "print(\"Confusion matix:\\n\", confusion_matrix(Y_test, KNN),\"\\n\")\n",
    "print(\"Classification report\\n\", classification_report(Y_test, KNN),\"\\n\")"
   ]
  },
  {
   "cell_type": "code",
   "execution_count": 21,
   "id": "33a48ad8",
   "metadata": {},
   "outputs": [
    {
     "data": {
      "text/plain": [
       "26"
      ]
     },
     "execution_count": 21,
     "metadata": {},
     "output_type": "execute_result"
    }
   ],
   "source": [
    "int(np.sqrt(len(X_train)))"
   ]
  },
  {
   "cell_type": "code",
   "execution_count": 22,
   "id": "71366e7e",
   "metadata": {},
   "outputs": [
    {
     "name": "stdout",
     "output_type": "stream",
     "text": [
      "Accuracy score:\n",
      " 0.7566666666666667 \n",
      "\n",
      "Confusion matix:\n",
      " [[112  35]\n",
      " [ 38 115]] \n",
      "\n",
      "Classification report\n",
      "               precision    recall  f1-score   support\n",
      "\n",
      "           0       0.75      0.76      0.75       147\n",
      "           1       0.77      0.75      0.76       153\n",
      "\n",
      "    accuracy                           0.76       300\n",
      "   macro avg       0.76      0.76      0.76       300\n",
      "weighted avg       0.76      0.76      0.76       300\n",
      " \n",
      "\n"
     ]
    }
   ],
   "source": [
    "model_KNN= KNeighborsClassifier(n_neighbors=55, metric=\"euclidean\")\n",
    "model_KNN.fit(X_train, Y_train)\n",
    "KNN= model_KNN.predict(X_test)\n",
    "\n",
    "print(\"Accuracy score:\\n\", accuracy_score(Y_test, KNN),\"\\n\")\n",
    "print(\"Confusion matix:\\n\", confusion_matrix(Y_test, KNN),\"\\n\")\n",
    "print(\"Classification report\\n\", classification_report(Y_test, KNN),\"\\n\")"
   ]
  },
  {
   "cell_type": "markdown",
   "id": "1f6e2eec",
   "metadata": {},
   "source": [
    "## Support Vector Machine"
   ]
  },
  {
   "cell_type": "code",
   "execution_count": 23,
   "id": "7270c675",
   "metadata": {},
   "outputs": [
    {
     "name": "stdout",
     "output_type": "stream",
     "text": [
      "Accuracy score:\n",
      " 0.7866666666666666 \n",
      "\n",
      "Confusion matix:\n",
      " [[116  31]\n",
      " [ 33 120]] \n",
      "\n",
      "Classification report\n",
      "               precision    recall  f1-score   support\n",
      "\n",
      "           0       0.78      0.79      0.78       147\n",
      "           1       0.79      0.78      0.79       153\n",
      "\n",
      "    accuracy                           0.79       300\n",
      "   macro avg       0.79      0.79      0.79       300\n",
      "weighted avg       0.79      0.79      0.79       300\n",
      " \n",
      "\n"
     ]
    }
   ],
   "source": [
    "model_svm= SVC(kernel='rbf', C=1, gamma=0.01)\n",
    "model_svm.fit(X_train, Y_train)\n",
    "SVM= model_svm.predict(X_test)\n",
    "\n",
    "print(\"Accuracy score:\\n\", accuracy_score(Y_test, SVM),\"\\n\")\n",
    "print(\"Confusion matix:\\n\", confusion_matrix(Y_test, SVM),\"\\n\")\n",
    "print(\"Classification report\\n\", classification_report(Y_test, SVM),\"\\n\")"
   ]
  },
  {
   "cell_type": "code",
   "execution_count": 24,
   "id": "01e7889c",
   "metadata": {},
   "outputs": [
    {
     "name": "stdout",
     "output_type": "stream",
     "text": [
      "Accuracy score:\n",
      " 0.7933333333333333 \n",
      "\n",
      "Confusion matix:\n",
      " [[115  32]\n",
      " [ 30 123]] \n",
      "\n",
      "Classification report\n",
      "               precision    recall  f1-score   support\n",
      "\n",
      "           0       0.79      0.78      0.79       147\n",
      "           1       0.79      0.80      0.80       153\n",
      "\n",
      "    accuracy                           0.79       300\n",
      "   macro avg       0.79      0.79      0.79       300\n",
      "weighted avg       0.79      0.79      0.79       300\n",
      " \n",
      "\n"
     ]
    }
   ],
   "source": [
    "model_svm_tune= SVC(kernel='rbf', C=300, gamma=0.01)\n",
    "model_svm_tune.fit(X_train, Y_train)\n",
    "SVM_tune= model_svm_tune.predict(X_test)\n",
    "\n",
    "print(\"Accuracy score:\\n\", accuracy_score(Y_test, SVM_tune),\"\\n\")\n",
    "print(\"Confusion matix:\\n\", confusion_matrix(Y_test, SVM_tune),\"\\n\")\n",
    "print(\"Classification report\\n\", classification_report(Y_test, SVM_tune),\"\\n\")"
   ]
  },
  {
   "cell_type": "markdown",
   "id": "38ecf1d5",
   "metadata": {},
   "source": [
    "## Decision Tree"
   ]
  },
  {
   "cell_type": "code",
   "execution_count": 25,
   "id": "a6024e24",
   "metadata": {},
   "outputs": [
    {
     "name": "stdout",
     "output_type": "stream",
     "text": [
      "Accuracy score:\n",
      " 0.82 \n",
      "\n",
      "Confusion matix:\n",
      " [[107  40]\n",
      " [ 14 139]] \n",
      "\n",
      "Classification report\n",
      "               precision    recall  f1-score   support\n",
      "\n",
      "           0       0.88      0.73      0.80       147\n",
      "           1       0.78      0.91      0.84       153\n",
      "\n",
      "    accuracy                           0.82       300\n",
      "   macro avg       0.83      0.82      0.82       300\n",
      "weighted avg       0.83      0.82      0.82       300\n",
      " \n",
      "\n"
     ]
    }
   ],
   "source": [
    "model_DT= DecisionTreeClassifier(criterion=\"gini\", splitter=\"best\", random_state=10)\n",
    "model_DT.fit(X_train, Y_train)\n",
    "DT= model_DT.predict(X_test)\n",
    "\n",
    "print(\"Accuracy score:\\n\", accuracy_score(Y_test, DT),\"\\n\")\n",
    "print(\"Confusion matix:\\n\", confusion_matrix(Y_test, DT),\"\\n\")\n",
    "print(\"Classification report\\n\", classification_report(Y_test, DT),\"\\n\")"
   ]
  },
  {
   "cell_type": "markdown",
   "id": "dd7d27f7",
   "metadata": {},
   "source": [
    "## Extra tree"
   ]
  },
  {
   "cell_type": "code",
   "execution_count": 26,
   "id": "30044e54",
   "metadata": {},
   "outputs": [
    {
     "name": "stdout",
     "output_type": "stream",
     "text": [
      "Accuracy score:\n",
      " 0.8733333333333333 \n",
      "\n",
      "Confusion matix:\n",
      " [[128  19]\n",
      " [ 19 134]] \n",
      "\n",
      "Classification report\n",
      "               precision    recall  f1-score   support\n",
      "\n",
      "           0       0.87      0.87      0.87       147\n",
      "           1       0.88      0.88      0.88       153\n",
      "\n",
      "    accuracy                           0.87       300\n",
      "   macro avg       0.87      0.87      0.87       300\n",
      "weighted avg       0.87      0.87      0.87       300\n",
      " \n",
      "\n"
     ]
    }
   ],
   "source": [
    "model_EXT= ExtraTreesClassifier(n_estimators=100, random_state=10)\n",
    "model_EXT.fit(X_train,Y_train)\n",
    "EXT= model_EXT.predict(X_test)\n",
    "\n",
    "print(\"Accuracy score:\\n\", accuracy_score(Y_test, EXT),\"\\n\")\n",
    "print(\"Confusion matix:\\n\", confusion_matrix(Y_test, EXT),\"\\n\")\n",
    "print(\"Classification report\\n\", classification_report(Y_test, EXT),\"\\n\")"
   ]
  },
  {
   "cell_type": "code",
   "execution_count": 27,
   "id": "7dd4f263",
   "metadata": {},
   "outputs": [
    {
     "name": "stdout",
     "output_type": "stream",
     "text": [
      "Accuracy score:\n",
      " 0.88 \n",
      "\n",
      "Confusion matix:\n",
      " [[130  17]\n",
      " [ 19 134]] \n",
      "\n",
      "Classification report\n",
      "               precision    recall  f1-score   support\n",
      "\n",
      "           0       0.87      0.88      0.88       147\n",
      "           1       0.89      0.88      0.88       153\n",
      "\n",
      "    accuracy                           0.88       300\n",
      "   macro avg       0.88      0.88      0.88       300\n",
      "weighted avg       0.88      0.88      0.88       300\n",
      " \n",
      "\n"
     ]
    }
   ],
   "source": [
    "model_EXT_tune= ExtraTreesClassifier(n_estimators=300, random_state=10)\n",
    "model_EXT_tune.fit(X_train,Y_train)\n",
    "EXT_tune= model_EXT_tune.predict(X_test)\n",
    "\n",
    "print(\"Accuracy score:\\n\", accuracy_score(Y_test, EXT_tune),\"\\n\")\n",
    "print(\"Confusion matix:\\n\", confusion_matrix(Y_test, EXT_tune),\"\\n\")\n",
    "print(\"Classification report\\n\", classification_report(Y_test, EXT_tune),\"\\n\")"
   ]
  },
  {
   "cell_type": "markdown",
   "id": "ffc0983e",
   "metadata": {},
   "source": [
    "## Random Forest"
   ]
  },
  {
   "cell_type": "code",
   "execution_count": 28,
   "id": "2a94a116",
   "metadata": {},
   "outputs": [
    {
     "name": "stdout",
     "output_type": "stream",
     "text": [
      "Accuracy score:\n",
      " 0.86 \n",
      "\n",
      "Confusion matix:\n",
      " [[122  25]\n",
      " [ 17 136]] \n",
      "\n",
      "Classification report\n",
      "               precision    recall  f1-score   support\n",
      "\n",
      "           0       0.88      0.83      0.85       147\n",
      "           1       0.84      0.89      0.87       153\n",
      "\n",
      "    accuracy                           0.86       300\n",
      "   macro avg       0.86      0.86      0.86       300\n",
      "weighted avg       0.86      0.86      0.86       300\n",
      " \n",
      "\n"
     ]
    }
   ],
   "source": [
    "model_RF= RandomForestClassifier(n_estimators=100, random_state=10)\n",
    "model_RF.fit(X_train,Y_train)\n",
    "RF= model_RF.predict(X_test)\n",
    "\n",
    "print(\"Accuracy score:\\n\", accuracy_score(Y_test, RF),\"\\n\")\n",
    "print(\"Confusion matix:\\n\", confusion_matrix(Y_test, RF),\"\\n\")\n",
    "print(\"Classification report\\n\", classification_report(Y_test, RF),\"\\n\")"
   ]
  },
  {
   "cell_type": "markdown",
   "id": "f3db36ed",
   "metadata": {},
   "source": [
    "## Tune Random Forest"
   ]
  },
  {
   "cell_type": "code",
   "execution_count": 29,
   "id": "a991fbd6",
   "metadata": {},
   "outputs": [
    {
     "name": "stdout",
     "output_type": "stream",
     "text": [
      "Accuracy score:\n",
      " 0.8666666666666667 \n",
      "\n",
      "Confusion matix:\n",
      " [[124  23]\n",
      " [ 17 136]] \n",
      "\n",
      "Classification report\n",
      "               precision    recall  f1-score   support\n",
      "\n",
      "           0       0.88      0.84      0.86       147\n",
      "           1       0.86      0.89      0.87       153\n",
      "\n",
      "    accuracy                           0.87       300\n",
      "   macro avg       0.87      0.87      0.87       300\n",
      "weighted avg       0.87      0.87      0.87       300\n",
      " \n",
      "\n"
     ]
    }
   ],
   "source": [
    "model_RF_tune= RandomForestClassifier(n_estimators=130, random_state=10)\n",
    "model_RF_tune.fit(X_train,Y_train)\n",
    "RF_tune= model_RF_tune.predict(X_test)\n",
    "\n",
    "print(\"Accuracy score:\\n\", accuracy_score(Y_test, RF_tune),\"\\n\")\n",
    "print(\"Confusion matix:\\n\", confusion_matrix(Y_test, RF_tune),\"\\n\")\n",
    "print(\"Classification report\\n\", classification_report(Y_test, RF_tune),\"\\n\")"
   ]
  },
  {
   "cell_type": "markdown",
   "id": "127ae896",
   "metadata": {},
   "source": [
    "## Ada Boost"
   ]
  },
  {
   "cell_type": "code",
   "execution_count": 30,
   "id": "577e6033",
   "metadata": {},
   "outputs": [
    {
     "name": "stdout",
     "output_type": "stream",
     "text": [
      "Accuracy score:\n",
      " 0.8033333333333333 \n",
      "\n",
      "Confusion matix:\n",
      " [[116  31]\n",
      " [ 28 125]] \n",
      "\n",
      "Classification report\n",
      "               precision    recall  f1-score   support\n",
      "\n",
      "           0       0.81      0.79      0.80       147\n",
      "           1       0.80      0.82      0.81       153\n",
      "\n",
      "    accuracy                           0.80       300\n",
      "   macro avg       0.80      0.80      0.80       300\n",
      "weighted avg       0.80      0.80      0.80       300\n",
      " \n",
      "\n"
     ]
    }
   ],
   "source": [
    "model_AB= AdaBoostClassifier(n_estimators=100, random_state=10)\n",
    "model_AB.fit(X_train,Y_train)\n",
    "AB= model_AB.predict(X_test)\n",
    "\n",
    "print(\"Accuracy score:\\n\", accuracy_score(Y_test, AB),\"\\n\")\n",
    "print(\"Confusion matix:\\n\", confusion_matrix(Y_test, AB),\"\\n\")\n",
    "print(\"Classification report\\n\", classification_report(Y_test, AB),\"\\n\")"
   ]
  },
  {
   "cell_type": "markdown",
   "id": "03e22eff",
   "metadata": {},
   "source": [
    "## Gradient Boost"
   ]
  },
  {
   "cell_type": "code",
   "execution_count": 31,
   "id": "e629f36c",
   "metadata": {},
   "outputs": [
    {
     "name": "stdout",
     "output_type": "stream",
     "text": [
      "Accuracy score:\n",
      " 0.8433333333333334 \n",
      "\n",
      "Confusion matix:\n",
      " [[120  27]\n",
      " [ 20 133]] \n",
      "\n",
      "Classification report\n",
      "               precision    recall  f1-score   support\n",
      "\n",
      "           0       0.86      0.82      0.84       147\n",
      "           1       0.83      0.87      0.85       153\n",
      "\n",
      "    accuracy                           0.84       300\n",
      "   macro avg       0.84      0.84      0.84       300\n",
      "weighted avg       0.84      0.84      0.84       300\n",
      " \n",
      "\n"
     ]
    }
   ],
   "source": [
    "model_GB= GradientBoostingClassifier(n_estimators=100, random_state=10)\n",
    "model_GB.fit(X_train,Y_train)\n",
    "GB= model_GB.predict(X_test)\n",
    "\n",
    "print(\"Accuracy score:\\n\", accuracy_score(Y_test, GB),\"\\n\")\n",
    "print(\"Confusion matix:\\n\", confusion_matrix(Y_test, GB),\"\\n\")\n",
    "print(\"Classification report\\n\", classification_report(Y_test, GB),\"\\n\")"
   ]
  },
  {
   "cell_type": "markdown",
   "id": "d3e32116",
   "metadata": {},
   "source": [
    "## Tune Gradient Boost"
   ]
  },
  {
   "cell_type": "code",
   "execution_count": 32,
   "id": "e800856a",
   "metadata": {},
   "outputs": [
    {
     "name": "stdout",
     "output_type": "stream",
     "text": [
      "Accuracy score:\n",
      " 0.8666666666666667 \n",
      "\n",
      "Confusion matix:\n",
      " [[121  26]\n",
      " [ 14 139]] \n",
      "\n",
      "Classification report\n",
      "               precision    recall  f1-score   support\n",
      "\n",
      "           0       0.90      0.82      0.86       147\n",
      "           1       0.84      0.91      0.87       153\n",
      "\n",
      "    accuracy                           0.87       300\n",
      "   macro avg       0.87      0.87      0.87       300\n",
      "weighted avg       0.87      0.87      0.87       300\n",
      " \n",
      "\n"
     ]
    }
   ],
   "source": [
    "model_GB_tune= GradientBoostingClassifier(n_estimators=420, random_state=10)\n",
    "model_GB_tune.fit(X_train,Y_train)\n",
    "GB_tune= model_GB_tune.predict(X_test)\n",
    "\n",
    "print(\"Accuracy score:\\n\", accuracy_score(Y_test, GB_tune),\"\\n\")\n",
    "print(\"Confusion matix:\\n\", confusion_matrix(Y_test, GB_tune),\"\\n\")\n",
    "print(\"Classification report\\n\", classification_report(Y_test, GB_tune),\"\\n\")"
   ]
  },
  {
   "cell_type": "markdown",
   "id": "6c06e48a",
   "metadata": {},
   "source": [
    "## XGBoost"
   ]
  },
  {
   "cell_type": "code",
   "execution_count": 33,
   "id": "6334b8ee",
   "metadata": {},
   "outputs": [
    {
     "name": "stdout",
     "output_type": "stream",
     "text": [
      "[19:09:32] WARNING: C:/Users/Administrator/workspace/xgboost-win64_release_1.4.0/src/learner.cc:1095: Starting in XGBoost 1.3.0, the default evaluation metric used with the objective 'binary:logistic' was changed from 'error' to 'logloss'. Explicitly set eval_metric if you'd like to restore the old behavior.\n",
      "\n",
      "Accuracy score:\n",
      " 0.8533333333333334 \n",
      "\n",
      "Confusion matix:\n",
      " [[120  27]\n",
      " [ 17 136]] \n",
      "\n",
      "Classification report\n",
      "               precision    recall  f1-score   support\n",
      "\n",
      "           0       0.88      0.82      0.85       147\n",
      "           1       0.83      0.89      0.86       153\n",
      "\n",
      "    accuracy                           0.85       300\n",
      "   macro avg       0.86      0.85      0.85       300\n",
      "weighted avg       0.85      0.85      0.85       300\n",
      " \n",
      "\n"
     ]
    }
   ],
   "source": [
    "model_XGB= XGBClassifier(n_estimators=120,random_state=10)\n",
    "model_XGB.fit(X_train,Y_train)\n",
    "XGB=model_XGB.predict(X_test)\n",
    "print()\n",
    "\n",
    "print(\"Accuracy score:\\n\", accuracy_score(Y_test, XGB),\"\\n\")\n",
    "print(\"Confusion matix:\\n\", confusion_matrix(Y_test, XGB),\"\\n\")\n",
    "print(\"Classification report\\n\", classification_report(Y_test, XGB),\"\\n\")"
   ]
  },
  {
   "cell_type": "markdown",
   "id": "bd2eac32",
   "metadata": {},
   "source": [
    "## Ensemble"
   ]
  },
  {
   "cell_type": "code",
   "execution_count": 34,
   "id": "2caa8079",
   "metadata": {},
   "outputs": [
    {
     "name": "stdout",
     "output_type": "stream",
     "text": [
      "[19:09:34] WARNING: C:/Users/Administrator/workspace/xgboost-win64_release_1.4.0/src/learner.cc:1095: Starting in XGBoost 1.3.0, the default evaluation metric used with the objective 'binary:logistic' was changed from 'error' to 'logloss'. Explicitly set eval_metric if you'd like to restore the old behavior.\n",
      "\n",
      "Accuracy score:\n",
      " 0.88 \n",
      "\n",
      "Confusion matix:\n",
      " [[128  19]\n",
      " [ 17 136]] \n",
      "\n",
      "Classification report\n",
      "               precision    recall  f1-score   support\n",
      "\n",
      "           0       0.88      0.87      0.88       147\n",
      "           1       0.88      0.89      0.88       153\n",
      "\n",
      "    accuracy                           0.88       300\n",
      "   macro avg       0.88      0.88      0.88       300\n",
      "weighted avg       0.88      0.88      0.88       300\n",
      " \n",
      "\n"
     ]
    }
   ],
   "source": [
    "estimators = []\n",
    "\n",
    "# model1 = LogisticRegression()\n",
    "# estimators.append(('LR', model1))\n",
    "\n",
    "# model2 = SGDClassifier(loss=\"log\", random_state=10, alpha=0.01, max_iter=1000, shuffle=True, early_stopping=True, n_iter_no_change=3)\n",
    "# estimators.append(('SGD', model2))\n",
    "\n",
    "# model3 = KNeighborsClassifier(n_neighbors=int(np.sqrt(len(X_train))), metric=\"euclidean\")\n",
    "# estimators.append(('KNN', model3))\n",
    "\n",
    "# model4 = SVC(kernel='rbf', C=300, gamma=0.01)\n",
    "# estimators.append(('SVM', model4))\n",
    "\n",
    "# model5 = DecisionTreeClassifier(criterion=\"gini\", splitter=\"best\", random_state=10)\n",
    "# estimators.append(('DT', model5))\n",
    "\n",
    "model6 = ExtraTreesClassifier(n_estimators=100, random_state=10)\n",
    "estimators.append(('EXT', model6))\n",
    "\n",
    "model7 = RandomForestClassifier(n_estimators=130, random_state=10)\n",
    "estimators.append(('RT', model7))\n",
    "\n",
    "# model8 = AdaBoostClassifier(n_estimators=100, random_state=10)\n",
    "# estimators.append(('AB', model8))\n",
    "\n",
    "model9 = GradientBoostingClassifier(n_estimators=420, random_state=10)\n",
    "estimators.append(('GB', model9))\n",
    "\n",
    "model10 = XGBClassifier(n_estimators=120,random_state=10)\n",
    "estimators.append(('XGB', model10))\n",
    "\n",
    "# create the ensemble model\n",
    "model_ensemble = VotingClassifier(estimators)\n",
    "model_ensemble.fit(X_train,Y_train)\n",
    "EM=model_ensemble.predict(X_test)\n",
    "\n",
    "print()\n",
    "print(\"Accuracy score:\\n\", accuracy_score(Y_test, EM),\"\\n\")\n",
    "print(\"Confusion matix:\\n\", confusion_matrix(Y_test, EM),\"\\n\")\n",
    "print(\"Classification report\\n\", classification_report(Y_test, EM),\"\\n\")"
   ]
  },
  {
   "cell_type": "code",
   "execution_count": 35,
   "id": "7f671b40",
   "metadata": {},
   "outputs": [],
   "source": [
    "pickle.dump(model_EXT_tune,open(\"model_EXT.pkl\", \"wb\"))\n",
    "pickle.dump(model_RF_tune,open(\"model_RF.pkl\", \"wb\"))\n",
    "pickle.dump(model_GB_tune,open(\"model_GB.pkl\", \"wb\"))\n",
    "pickle.dump(model_XGB,open(\"model_XGB.pkl\", \"wb\"))\n",
    "pickle.dump(model_ensemble,open(\"model_Ensemble.pkl\", \"wb\"))"
   ]
  },
  {
   "cell_type": "code",
   "execution_count": null,
   "id": "1f18e419",
   "metadata": {},
   "outputs": [],
   "source": []
  }
 ],
 "metadata": {
  "kernelspec": {
   "display_name": "Python 3",
   "language": "python",
   "name": "python3"
  },
  "language_info": {
   "codemirror_mode": {
    "name": "ipython",
    "version": 3
   },
   "file_extension": ".py",
   "mimetype": "text/x-python",
   "name": "python",
   "nbconvert_exporter": "python",
   "pygments_lexer": "ipython3",
   "version": "3.8.8"
  }
 },
 "nbformat": 4,
 "nbformat_minor": 5
}
