{
 "cells": [
  {
   "cell_type": "code",
   "execution_count": 2,
   "metadata": {},
   "outputs": [],
   "source": [
    "# importing libraries\n",
    "\n",
    "import numpy as np\n",
    "import pandas as pd\n",
    "import matplotlib.pyplot as plt\n",
    "import seaborn as sns\n",
    "\n",
    "pd.set_option(\"display.max_columns\",None)\n",
    "pd.set_option(\"display.max_rows\",None)\n",
    "\n",
    "# import warnings\n",
    "import warnings\n",
    "warnings.filterwarnings(\"ignore\")\n",
    "\n",
    "# label encoding \n",
    "from sklearn import preprocessing\n",
    "\n",
    "# scaling data\n",
    "from sklearn.preprocessing import StandardScaler\n",
    "\n",
    "# train test split\n",
    "from sklearn.model_selection import train_test_split\n",
    "\n",
    "# Evaluation matrix\n",
    "from sklearn.metrics import confusion_matrix, accuracy_score, classification_report\n",
    "\n",
    "# models\n",
    "from sklearn.linear_model import LogisticRegression\n",
    "from sklearn import metrics # for AUC\n",
    "from sklearn.linear_model import SGDClassifier\n",
    "from sklearn.neighbors import KNeighborsClassifier\n",
    "from sklearn.tree import DecisionTreeClassifier\n",
    "from sklearn.ensemble import RandomForestClassifier\n",
    "from sklearn import svm\n",
    "from sklearn.model_selection import KFold\n",
    "from sklearn.model_selection import cross_val_score \n",
    "from sklearn.ensemble import VotingClassifier\n",
    "\n",
    "#importing pickle for saving model\n",
    "import pickle"
   ]
  },
  {
   "cell_type": "code",
   "execution_count": 3,
   "metadata": {},
   "outputs": [
    {
     "name": "stdout",
     "output_type": "stream",
     "text": [
      "(768, 9)\n"
     ]
    },
    {
     "data": {
      "text/html": [
       "<div>\n",
       "<style scoped>\n",
       "    .dataframe tbody tr th:only-of-type {\n",
       "        vertical-align: middle;\n",
       "    }\n",
       "\n",
       "    .dataframe tbody tr th {\n",
       "        vertical-align: top;\n",
       "    }\n",
       "\n",
       "    .dataframe thead th {\n",
       "        text-align: right;\n",
       "    }\n",
       "</style>\n",
       "<table border=\"1\" class=\"dataframe\">\n",
       "  <thead>\n",
       "    <tr style=\"text-align: right;\">\n",
       "      <th></th>\n",
       "      <th>Pregnancies</th>\n",
       "      <th>Glucose</th>\n",
       "      <th>BloodPressure</th>\n",
       "      <th>SkinThickness</th>\n",
       "      <th>Insulin</th>\n",
       "      <th>BMI</th>\n",
       "      <th>DiabetesPedigreeFunction</th>\n",
       "      <th>Age</th>\n",
       "      <th>Outcome</th>\n",
       "    </tr>\n",
       "  </thead>\n",
       "  <tbody>\n",
       "    <tr>\n",
       "      <th>0</th>\n",
       "      <td>6</td>\n",
       "      <td>148</td>\n",
       "      <td>72</td>\n",
       "      <td>35</td>\n",
       "      <td>0</td>\n",
       "      <td>33.6</td>\n",
       "      <td>0.627</td>\n",
       "      <td>50</td>\n",
       "      <td>1</td>\n",
       "    </tr>\n",
       "    <tr>\n",
       "      <th>1</th>\n",
       "      <td>1</td>\n",
       "      <td>85</td>\n",
       "      <td>66</td>\n",
       "      <td>29</td>\n",
       "      <td>0</td>\n",
       "      <td>26.6</td>\n",
       "      <td>0.351</td>\n",
       "      <td>31</td>\n",
       "      <td>0</td>\n",
       "    </tr>\n",
       "    <tr>\n",
       "      <th>2</th>\n",
       "      <td>8</td>\n",
       "      <td>183</td>\n",
       "      <td>64</td>\n",
       "      <td>0</td>\n",
       "      <td>0</td>\n",
       "      <td>23.3</td>\n",
       "      <td>0.672</td>\n",
       "      <td>32</td>\n",
       "      <td>1</td>\n",
       "    </tr>\n",
       "    <tr>\n",
       "      <th>3</th>\n",
       "      <td>1</td>\n",
       "      <td>89</td>\n",
       "      <td>66</td>\n",
       "      <td>23</td>\n",
       "      <td>94</td>\n",
       "      <td>28.1</td>\n",
       "      <td>0.167</td>\n",
       "      <td>21</td>\n",
       "      <td>0</td>\n",
       "    </tr>\n",
       "    <tr>\n",
       "      <th>4</th>\n",
       "      <td>0</td>\n",
       "      <td>137</td>\n",
       "      <td>40</td>\n",
       "      <td>35</td>\n",
       "      <td>168</td>\n",
       "      <td>43.1</td>\n",
       "      <td>2.288</td>\n",
       "      <td>33</td>\n",
       "      <td>1</td>\n",
       "    </tr>\n",
       "  </tbody>\n",
       "</table>\n",
       "</div>"
      ],
      "text/plain": [
       "   Pregnancies  Glucose  BloodPressure  SkinThickness  Insulin   BMI  \\\n",
       "0            6      148             72             35        0  33.6   \n",
       "1            1       85             66             29        0  26.6   \n",
       "2            8      183             64              0        0  23.3   \n",
       "3            1       89             66             23       94  28.1   \n",
       "4            0      137             40             35      168  43.1   \n",
       "\n",
       "   DiabetesPedigreeFunction  Age  Outcome  \n",
       "0                     0.627   50        1  \n",
       "1                     0.351   31        0  \n",
       "2                     0.672   32        1  \n",
       "3                     0.167   21        0  \n",
       "4                     2.288   33        1  "
      ]
     },
     "execution_count": 3,
     "metadata": {},
     "output_type": "execute_result"
    }
   ],
   "source": [
    "# importing data set:\n",
    "diabeties=pd.read_csv(r\"C:\\Users\\VISHAL\\Web Deployment\\Diabeties\\data\\diabetes.csv\",header=0)\n",
    "print(diabeties.shape)\n",
    "diabeties.head()"
   ]
  },
  {
   "cell_type": "code",
   "execution_count": 4,
   "metadata": {},
   "outputs": [
    {
     "name": "stdout",
     "output_type": "stream",
     "text": [
      "<class 'pandas.core.frame.DataFrame'>\n",
      "RangeIndex: 768 entries, 0 to 767\n",
      "Data columns (total 9 columns):\n",
      " #   Column                    Non-Null Count  Dtype  \n",
      "---  ------                    --------------  -----  \n",
      " 0   Pregnancies               768 non-null    int64  \n",
      " 1   Glucose                   768 non-null    int64  \n",
      " 2   BloodPressure             768 non-null    int64  \n",
      " 3   SkinThickness             768 non-null    int64  \n",
      " 4   Insulin                   768 non-null    int64  \n",
      " 5   BMI                       768 non-null    float64\n",
      " 6   DiabetesPedigreeFunction  768 non-null    float64\n",
      " 7   Age                       768 non-null    int64  \n",
      " 8   Outcome                   768 non-null    int64  \n",
      "dtypes: float64(2), int64(7)\n",
      "memory usage: 54.1 KB\n"
     ]
    }
   ],
   "source": [
    "diabeties.info()"
   ]
  },
  {
   "cell_type": "code",
   "execution_count": 5,
   "metadata": {},
   "outputs": [
    {
     "data": {
      "text/html": [
       "<div>\n",
       "<style scoped>\n",
       "    .dataframe tbody tr th:only-of-type {\n",
       "        vertical-align: middle;\n",
       "    }\n",
       "\n",
       "    .dataframe tbody tr th {\n",
       "        vertical-align: top;\n",
       "    }\n",
       "\n",
       "    .dataframe thead th {\n",
       "        text-align: right;\n",
       "    }\n",
       "</style>\n",
       "<table border=\"1\" class=\"dataframe\">\n",
       "  <thead>\n",
       "    <tr style=\"text-align: right;\">\n",
       "      <th></th>\n",
       "      <th>Pregnancies</th>\n",
       "      <th>Glucose</th>\n",
       "      <th>BloodPressure</th>\n",
       "      <th>SkinThickness</th>\n",
       "      <th>Insulin</th>\n",
       "      <th>BMI</th>\n",
       "      <th>DiabetesPedigreeFunction</th>\n",
       "      <th>Age</th>\n",
       "      <th>Outcome</th>\n",
       "    </tr>\n",
       "  </thead>\n",
       "  <tbody>\n",
       "    <tr>\n",
       "      <th>count</th>\n",
       "      <td>768.000000</td>\n",
       "      <td>768.000000</td>\n",
       "      <td>768.000000</td>\n",
       "      <td>768.000000</td>\n",
       "      <td>768.000000</td>\n",
       "      <td>768.000000</td>\n",
       "      <td>768.000000</td>\n",
       "      <td>768.000000</td>\n",
       "      <td>768.000000</td>\n",
       "    </tr>\n",
       "    <tr>\n",
       "      <th>mean</th>\n",
       "      <td>3.845052</td>\n",
       "      <td>120.894531</td>\n",
       "      <td>69.105469</td>\n",
       "      <td>20.536458</td>\n",
       "      <td>79.799479</td>\n",
       "      <td>31.992578</td>\n",
       "      <td>0.471876</td>\n",
       "      <td>33.240885</td>\n",
       "      <td>0.348958</td>\n",
       "    </tr>\n",
       "    <tr>\n",
       "      <th>std</th>\n",
       "      <td>3.369578</td>\n",
       "      <td>31.972618</td>\n",
       "      <td>19.355807</td>\n",
       "      <td>15.952218</td>\n",
       "      <td>115.244002</td>\n",
       "      <td>7.884160</td>\n",
       "      <td>0.331329</td>\n",
       "      <td>11.760232</td>\n",
       "      <td>0.476951</td>\n",
       "    </tr>\n",
       "    <tr>\n",
       "      <th>min</th>\n",
       "      <td>0.000000</td>\n",
       "      <td>0.000000</td>\n",
       "      <td>0.000000</td>\n",
       "      <td>0.000000</td>\n",
       "      <td>0.000000</td>\n",
       "      <td>0.000000</td>\n",
       "      <td>0.078000</td>\n",
       "      <td>21.000000</td>\n",
       "      <td>0.000000</td>\n",
       "    </tr>\n",
       "    <tr>\n",
       "      <th>25%</th>\n",
       "      <td>1.000000</td>\n",
       "      <td>99.000000</td>\n",
       "      <td>62.000000</td>\n",
       "      <td>0.000000</td>\n",
       "      <td>0.000000</td>\n",
       "      <td>27.300000</td>\n",
       "      <td>0.243750</td>\n",
       "      <td>24.000000</td>\n",
       "      <td>0.000000</td>\n",
       "    </tr>\n",
       "    <tr>\n",
       "      <th>50%</th>\n",
       "      <td>3.000000</td>\n",
       "      <td>117.000000</td>\n",
       "      <td>72.000000</td>\n",
       "      <td>23.000000</td>\n",
       "      <td>30.500000</td>\n",
       "      <td>32.000000</td>\n",
       "      <td>0.372500</td>\n",
       "      <td>29.000000</td>\n",
       "      <td>0.000000</td>\n",
       "    </tr>\n",
       "    <tr>\n",
       "      <th>75%</th>\n",
       "      <td>6.000000</td>\n",
       "      <td>140.250000</td>\n",
       "      <td>80.000000</td>\n",
       "      <td>32.000000</td>\n",
       "      <td>127.250000</td>\n",
       "      <td>36.600000</td>\n",
       "      <td>0.626250</td>\n",
       "      <td>41.000000</td>\n",
       "      <td>1.000000</td>\n",
       "    </tr>\n",
       "    <tr>\n",
       "      <th>max</th>\n",
       "      <td>17.000000</td>\n",
       "      <td>199.000000</td>\n",
       "      <td>122.000000</td>\n",
       "      <td>99.000000</td>\n",
       "      <td>846.000000</td>\n",
       "      <td>67.100000</td>\n",
       "      <td>2.420000</td>\n",
       "      <td>81.000000</td>\n",
       "      <td>1.000000</td>\n",
       "    </tr>\n",
       "  </tbody>\n",
       "</table>\n",
       "</div>"
      ],
      "text/plain": [
       "       Pregnancies     Glucose  BloodPressure  SkinThickness     Insulin  \\\n",
       "count   768.000000  768.000000     768.000000     768.000000  768.000000   \n",
       "mean      3.845052  120.894531      69.105469      20.536458   79.799479   \n",
       "std       3.369578   31.972618      19.355807      15.952218  115.244002   \n",
       "min       0.000000    0.000000       0.000000       0.000000    0.000000   \n",
       "25%       1.000000   99.000000      62.000000       0.000000    0.000000   \n",
       "50%       3.000000  117.000000      72.000000      23.000000   30.500000   \n",
       "75%       6.000000  140.250000      80.000000      32.000000  127.250000   \n",
       "max      17.000000  199.000000     122.000000      99.000000  846.000000   \n",
       "\n",
       "              BMI  DiabetesPedigreeFunction         Age     Outcome  \n",
       "count  768.000000                768.000000  768.000000  768.000000  \n",
       "mean    31.992578                  0.471876   33.240885    0.348958  \n",
       "std      7.884160                  0.331329   11.760232    0.476951  \n",
       "min      0.000000                  0.078000   21.000000    0.000000  \n",
       "25%     27.300000                  0.243750   24.000000    0.000000  \n",
       "50%     32.000000                  0.372500   29.000000    0.000000  \n",
       "75%     36.600000                  0.626250   41.000000    1.000000  \n",
       "max     67.100000                  2.420000   81.000000    1.000000  "
      ]
     },
     "execution_count": 5,
     "metadata": {},
     "output_type": "execute_result"
    }
   ],
   "source": [
    "diabeties.describe()"
   ]
  },
  {
   "cell_type": "code",
   "execution_count": 6,
   "metadata": {},
   "outputs": [],
   "source": [
    "diabeties.drop([\"DiabetesPedigreeFunction\"],axis=1,inplace=True)"
   ]
  },
  {
   "cell_type": "code",
   "execution_count": 7,
   "metadata": {},
   "outputs": [
    {
     "data": {
      "image/png": "[encoded data removed]",
      "text/plain": [
       "<Figure size 432x288 with 1 Axes>"
      ]
     },
     "metadata": {
      "needs_background": "light"
     },
     "output_type": "display_data"
    },
    {
     "data": {
      "image/png": "[encoded data removed]",
      "text/plain": [
       "<Figure size 432x288 with 1 Axes>"
      ]
     },
     "metadata": {
      "needs_background": "light"
     },
     "output_type": "display_data"
    },
    {
     "data": {
      "image/png": "[encoded data removed]",
      "text/plain": [
       "<Figure size 432x288 with 1 Axes>"
      ]
     },
     "metadata": {
      "needs_background": "light"
     },
     "output_type": "display_data"
    },
    {
     "data": {
      "image/png": "[encoded data removed]",
      "text/plain": [
       "<Figure size 432x288 with 1 Axes>"
      ]
     },
     "metadata": {
      "needs_background": "light"
     },
     "output_type": "display_data"
    },
    {
     "data": {
      "image/png": "[encoded data removed]",
      "text/plain": [
       "<Figure size 432x288 with 1 Axes>"
      ]
     },
     "metadata": {
      "needs_background": "light"
     },
     "output_type": "display_data"
    },
    {
     "data": {
      "image/png": "[encoded data removed]",
      "text/plain": [
       "<Figure size 432x288 with 1 Axes>"
      ]
     },
     "metadata": {
      "needs_background": "light"
     },
     "output_type": "display_data"
    },
    {
     "data": {
      "image/png": "[encoded data removed]",
      "text/plain": [
       "<Figure size 432x288 with 1 Axes>"
      ]
     },
     "metadata": {
      "needs_background": "light"
     },
     "output_type": "display_data"
    },
    {
     "data": {
      "image/png": "[encoded data removed]",
      "text/plain": [
       "<Figure size 432x288 with 1 Axes>"
      ]
     },
     "metadata": {
      "needs_background": "light"
     },
     "output_type": "display_data"
    }
   ],
   "source": [
    "for i in diabeties.columns:\n",
    "    diabeties.boxplot(column=i)\n",
    "    plt.show()"
   ]
  },
  {
   "cell_type": "code",
   "execution_count": 8,
   "metadata": {},
   "outputs": [
    {
     "data": {
      "text/plain": [
       "Index(['Pregnancies', 'Glucose', 'BloodPressure', 'SkinThickness', 'Insulin',\n",
       "       'BMI', 'Age', 'Outcome'],\n",
       "      dtype='object')"
      ]
     },
     "execution_count": 8,
     "metadata": {},
     "output_type": "execute_result"
    }
   ],
   "source": [
    "diabeties.columns"
   ]
  },
  {
   "cell_type": "code",
   "execution_count": 9,
   "metadata": {},
   "outputs": [
    {
     "name": "stdout",
     "output_type": "stream",
     "text": [
      "(764, 8)\n",
      "(4, 8)\n",
      "-6.5\n",
      "3\n",
      "(768, 8)\n"
     ]
    },
    {
     "data": {
      "image/png": "[encoded data removed]",
      "text/plain": [
       "<Figure size 432x288 with 1 Axes>"
      ]
     },
     "metadata": {
      "needs_background": "light"
     },
     "output_type": "display_data"
    }
   ],
   "source": [
    "#for value in colname:\n",
    "q1 = diabeties['Pregnancies'].quantile(0.25) #first quartile value\n",
    "q3 = diabeties['Pregnancies'].quantile(0.75) # third quartile value\n",
    "iqr = q3-q1 #Interquartile range\n",
    "low  = q1-1.5*iqr #acceptable range\n",
    "high = q3+1.5*iqr #acceptable range\n",
    "\n",
    "diabeties_include = diabeties.loc[(diabeties['Pregnancies'] >= low) & \\\n",
    "                                (diabeties['Pregnancies'] <= high)] # meeting the acceptable range\n",
    "diabeties_exclude = diabeties.loc[(diabeties['Pregnancies'] < low) | (diabeties['Pregnancies'] > high)] #not meeting the acceptable range\n",
    "\n",
    "print(diabeties_include.shape)\n",
    "print(diabeties_exclude.shape)\n",
    "\n",
    "print(low)\n",
    "\n",
    "Pregnancies_mean=int(diabeties_include.Pregnancies.mean()) #finding the mean of the acceptable range\n",
    "print(Pregnancies_mean)\n",
    "\n",
    "#imputing outlier values with mean value\n",
    "diabeties_exclude.Pregnancies=Pregnancies_mean\n",
    "\n",
    "#getting back the original shape of df\n",
    "diabeties_rev1=pd.concat([diabeties_include,diabeties_exclude],axis=0) #concatenating both dfs to get \n",
    "#the original shape\n",
    "print(diabeties_rev1.shape)\n",
    "\n",
    "diabeties_rev1.boxplot(column=\"Pregnancies\")\n",
    "plt.show()"
   ]
  },
  {
   "cell_type": "code",
   "execution_count": 10,
   "metadata": {},
   "outputs": [
    {
     "name": "stdout",
     "output_type": "stream",
     "text": [
      "(723, 8)\n",
      "(45, 8)\n",
      "35.0\n",
      "72\n",
      "(768, 8)\n"
     ]
    },
    {
     "data": {
      "image/png": "[encoded data removed]",
      "text/plain": [
       "<Figure size 432x288 with 1 Axes>"
      ]
     },
     "metadata": {
      "needs_background": "light"
     },
     "output_type": "display_data"
    }
   ],
   "source": [
    "#for value in colname:\n",
    "q1 = diabeties_rev1['BloodPressure'].quantile(0.25) #first quartile value\n",
    "q3 = diabeties_rev1['BloodPressure'].quantile(0.75) # third quartile value\n",
    "iqr = q3-q1 #Interquartile range\n",
    "low  = q1-1.5*iqr #acceptable range\n",
    "high = q3+1.5*iqr #acceptable range\n",
    "\n",
    "diabeties_rev1_include = diabeties_rev1.loc[(diabeties_rev1['BloodPressure'] >= low) & \\\n",
    "                                (diabeties_rev1['BloodPressure'] <= high)] # meeting the acceptable range\n",
    "diabeties_rev1_exclude = diabeties_rev1.loc[(diabeties_rev1['BloodPressure'] < low) | (diabeties_rev1['BloodPressure'] > high)] #not meeting the acceptable range\n",
    "\n",
    "print(diabeties_rev1_include.shape)\n",
    "print(diabeties_rev1_exclude.shape)\n",
    "\n",
    "print(low)\n",
    "\n",
    "BloodPressure_mean=int(diabeties_rev1_include.BloodPressure.mean()) #finding the mean of the acceptable range\n",
    "print(BloodPressure_mean)\n",
    "\n",
    "#imputing outlier values with mean value\n",
    "diabeties_rev1_exclude.BloodPressure=BloodPressure_mean\n",
    "\n",
    "#getting back the original shape of df\n",
    "diabeties_rev2=pd.concat([diabeties_rev1_include,diabeties_rev1_exclude],axis=0) #concatenating both dfs to get \n",
    "#the original shape\n",
    "print(diabeties_rev2.shape)\n",
    "\n",
    "diabeties_rev2.boxplot(column=[\"BloodPressure\"])\n",
    "plt.show()"
   ]
  },
  {
   "cell_type": "code",
   "execution_count": 11,
   "metadata": {},
   "outputs": [
    {
     "name": "stdout",
     "output_type": "stream",
     "text": [
      "(734, 8)\n",
      "(34, 8)\n",
      "-190.875\n",
      "62\n",
      "(768, 8)\n"
     ]
    },
    {
     "data": {
      "image/png": "[encoded data removed]",
      "text/plain": [
       "<Figure size 432x288 with 1 Axes>"
      ]
     },
     "metadata": {
      "needs_background": "light"
     },
     "output_type": "display_data"
    }
   ],
   "source": [
    "#for value in colname:\n",
    "q1 = diabeties_rev2['Insulin'].quantile(0.25) #first quartile value\n",
    "q3 = diabeties_rev2['Insulin'].quantile(0.75) # third quartile value\n",
    "iqr = q3-q1 #Interquartile range\n",
    "low  = q1-1.5*iqr #acceptable range\n",
    "high = q3+1.5*iqr #acceptable range\n",
    "\n",
    "diabeties_rev2_include = diabeties_rev2.loc[(diabeties_rev2['Insulin'] >= low) & \\\n",
    "                                (diabeties_rev2['Insulin'] <= high)] # meeting the acceptable range\n",
    "diabeties_rev2_exclude = diabeties_rev2.loc[(diabeties_rev2['Insulin'] < low) | (diabeties_rev2['Insulin'] > high)] #not meeting the acceptable range\n",
    "\n",
    "print(diabeties_rev2_include.shape)\n",
    "print(diabeties_rev2_exclude.shape)\n",
    "\n",
    "print(low)\n",
    "\n",
    "Insulin_mean=int(diabeties_rev2_include.Insulin.mean()) #finding the mean of the acceptable range\n",
    "print(Insulin_mean)\n",
    "\n",
    "#imputing outlier values with mean value\n",
    "diabeties_rev2_exclude.Insulin=Insulin_mean\n",
    "\n",
    "#getting back the original shape of df\n",
    "diabeties_rev=pd.concat([diabeties_rev2_include,diabeties_rev2_exclude],axis=0) #concatenating both dfs to get \n",
    "#the original shape\n",
    "print(diabeties_rev.shape)\n",
    "\n",
    "diabeties_rev.boxplot(column=[\"Insulin\"])\n",
    "plt.show()"
   ]
  },
  {
   "cell_type": "code",
   "execution_count": 12,
   "metadata": {},
   "outputs": [],
   "source": [
    "# #for value in colname:\n",
    "# q1 = diabeties_rev3['DiabetesPedigreeFunction'].quantile(0.25) #first quartile value\n",
    "# q3 = diabeties_rev3['DiabetesPedigreeFunction'].quantile(0.75) # third quartile value\n",
    "# iqr = q3-q1 #Interquartile range\n",
    "# low  = q1-1.5*iqr #acceptable range\n",
    "# high = q3+1.5*iqr #acceptable range\n",
    "\n",
    "# diabeties_rev3_include = diabeties_rev3.loc[(diabeties_rev3['DiabetesPedigreeFunction'] >= low) & \\\n",
    "#                                 (diabeties_rev3['DiabetesPedigreeFunction'] <= high)] # meeting the acceptable range\n",
    "# diabeties_rev3_exclude = diabeties_rev3.loc[(diabeties_rev3['DiabetesPedigreeFunction'] < low) | (diabeties_rev3['DiabetesPedigreeFunction'] > high)] #not meeting the acceptable range\n",
    "\n",
    "# print(diabeties_rev3_include.shape)\n",
    "# print(diabeties_rev3_exclude.shape)\n",
    "\n",
    "# print(low)\n",
    "\n",
    "# DiabetesPedigreeFunction_mean=int(diabeties_rev3_include.DiabetesPedigreeFunction.mean()) #finding the mean of the acceptable range\n",
    "# print(DiabetesPedigreeFunction_mean)\n",
    "\n",
    "# #imputing outlier values with mean value\n",
    "# diabeties_rev3_exclude.DiabetesPedigreeFunction=DiabetesPedigreeFunction_mean\n",
    "\n",
    "# #getting back the original shape of df\n",
    "# diabeties_rev=pd.concat([diabeties_rev3_include,diabeties_rev3_exclude],axis=0) #concatenating both dfs to get \n",
    "# #the original shape\n",
    "# print(diabeties_rev.shape)\n",
    "\n",
    "# diabeties_rev.boxplot(column=[\"DiabetesPedigreeFunction\"])\n",
    "# plt.show()"
   ]
  },
  {
   "cell_type": "code",
   "execution_count": 13,
   "metadata": {},
   "outputs": [
    {
     "data": {
      "image/png": "[encoded data removed]",
      "text/plain": [
       "<Figure size 432x288 with 1 Axes>"
      ]
     },
     "metadata": {
      "needs_background": "light"
     },
     "output_type": "display_data"
    },
    {
     "data": {
      "image/png": "[encoded data removed]",
      "text/plain": [
       "<Figure size 432x288 with 1 Axes>"
      ]
     },
     "metadata": {
      "needs_background": "light"
     },
     "output_type": "display_data"
    },
    {
     "data": {
      "image/png": "[encoded data removed]",
      "text/plain": [
       "<Figure size 432x288 with 1 Axes>"
      ]
     },
     "metadata": {
      "needs_background": "light"
     },
     "output_type": "display_data"
    },
    {
     "data": {
      "image/png": "[encoded data removed]",
      "text/plain": [
       "<Figure size 432x288 with 1 Axes>"
      ]
     },
     "metadata": {
      "needs_background": "light"
     },
     "output_type": "display_data"
    },
    {
     "data": {
      "image/png": "[encoded data removed]",
      "text/plain": [
       "<Figure size 432x288 with 1 Axes>"
      ]
     },
     "metadata": {
      "needs_background": "light"
     },
     "output_type": "display_data"
    },
    {
     "data": {
      "image/png": "[encoded data removed]",
      "text/plain": [
       "<Figure size 432x288 with 1 Axes>"
      ]
     },
     "metadata": {
      "needs_background": "light"
     },
     "output_type": "display_data"
    },
    {
     "data": {
      "image/png": "[encoded data removed]",
      "text/plain": [
       "<Figure size 432x288 with 1 Axes>"
      ]
     },
     "metadata": {
      "needs_background": "light"
     },
     "output_type": "display_data"
    },
    {
     "data": {
      "image/png": "[encoded data removed]",
      "text/plain": [
       "<Figure size 432x288 with 1 Axes>"
      ]
     },
     "metadata": {
      "needs_background": "light"
     },
     "output_type": "display_data"
    }
   ],
   "source": [
    "for i in diabeties.columns:\n",
    "    diabeties_rev.boxplot(column=i)\n",
    "    plt.show()"
   ]
  },
  {
   "cell_type": "code",
   "execution_count": 14,
   "metadata": {},
   "outputs": [
    {
     "data": {
      "text/html": [
       "<div>\n",
       "<style scoped>\n",
       "    .dataframe tbody tr th:only-of-type {\n",
       "        vertical-align: middle;\n",
       "    }\n",
       "\n",
       "    .dataframe tbody tr th {\n",
       "        vertical-align: top;\n",
       "    }\n",
       "\n",
       "    .dataframe thead th {\n",
       "        text-align: right;\n",
       "    }\n",
       "</style>\n",
       "<table border=\"1\" class=\"dataframe\">\n",
       "  <thead>\n",
       "    <tr style=\"text-align: right;\">\n",
       "      <th></th>\n",
       "      <th>Pregnancies</th>\n",
       "      <th>Glucose</th>\n",
       "      <th>BloodPressure</th>\n",
       "      <th>SkinThickness</th>\n",
       "      <th>Insulin</th>\n",
       "      <th>BMI</th>\n",
       "      <th>Age</th>\n",
       "      <th>Outcome</th>\n",
       "    </tr>\n",
       "  </thead>\n",
       "  <tbody>\n",
       "    <tr>\n",
       "      <th>0</th>\n",
       "      <td>6</td>\n",
       "      <td>148</td>\n",
       "      <td>72</td>\n",
       "      <td>35</td>\n",
       "      <td>0</td>\n",
       "      <td>33.6</td>\n",
       "      <td>50</td>\n",
       "      <td>1</td>\n",
       "    </tr>\n",
       "    <tr>\n",
       "      <th>1</th>\n",
       "      <td>1</td>\n",
       "      <td>85</td>\n",
       "      <td>66</td>\n",
       "      <td>29</td>\n",
       "      <td>0</td>\n",
       "      <td>26.6</td>\n",
       "      <td>31</td>\n",
       "      <td>0</td>\n",
       "    </tr>\n",
       "    <tr>\n",
       "      <th>2</th>\n",
       "      <td>8</td>\n",
       "      <td>183</td>\n",
       "      <td>64</td>\n",
       "      <td>0</td>\n",
       "      <td>0</td>\n",
       "      <td>23.3</td>\n",
       "      <td>32</td>\n",
       "      <td>1</td>\n",
       "    </tr>\n",
       "    <tr>\n",
       "      <th>3</th>\n",
       "      <td>1</td>\n",
       "      <td>89</td>\n",
       "      <td>66</td>\n",
       "      <td>23</td>\n",
       "      <td>94</td>\n",
       "      <td>28.1</td>\n",
       "      <td>21</td>\n",
       "      <td>0</td>\n",
       "    </tr>\n",
       "    <tr>\n",
       "      <th>4</th>\n",
       "      <td>0</td>\n",
       "      <td>137</td>\n",
       "      <td>40</td>\n",
       "      <td>35</td>\n",
       "      <td>168</td>\n",
       "      <td>43.1</td>\n",
       "      <td>33</td>\n",
       "      <td>1</td>\n",
       "    </tr>\n",
       "  </tbody>\n",
       "</table>\n",
       "</div>"
      ],
      "text/plain": [
       "   Pregnancies  Glucose  BloodPressure  SkinThickness  Insulin   BMI  Age  \\\n",
       "0            6      148             72             35        0  33.6   50   \n",
       "1            1       85             66             29        0  26.6   31   \n",
       "2            8      183             64              0        0  23.3   32   \n",
       "3            1       89             66             23       94  28.1   21   \n",
       "4            0      137             40             35      168  43.1   33   \n",
       "\n",
       "   Outcome  \n",
       "0        1  \n",
       "1        0  \n",
       "2        1  \n",
       "3        0  \n",
       "4        1  "
      ]
     },
     "execution_count": 14,
     "metadata": {},
     "output_type": "execute_result"
    }
   ],
   "source": [
    "diabeties_rev.head()"
   ]
  },
  {
   "cell_type": "markdown",
   "metadata": {},
   "source": [
    "### Splitting Data"
   ]
  },
  {
   "cell_type": "code",
   "execution_count": 15,
   "metadata": {},
   "outputs": [],
   "source": [
    "X = diabeties_rev.values[:,0:-1]\n",
    "Y = diabeties_rev.values[:,-1]"
   ]
  },
  {
   "cell_type": "code",
   "execution_count": 16,
   "metadata": {},
   "outputs": [
    {
     "name": "stdout",
     "output_type": "stream",
     "text": [
      "[[ 0.67842689  0.84832379 -0.01765027 ... -0.80604169  0.20401277\n",
      "   1.4259954 ]\n",
      " [-0.85132017 -1.12339636 -0.55627586 ... -0.80604169 -0.68442195\n",
      "  -0.19067191]\n",
      " [ 1.29032571  1.94372388 -0.73581772 ... -0.80604169 -1.10325546\n",
      "  -0.10558415]\n",
      " ...\n",
      " [-0.23942135  1.16129525 -0.73581772 ... -0.00405909 -0.10059342\n",
      "  -0.78628618]\n",
      " [ 0.9843763   2.06891246 -1.99261076 ... -0.00405909  0.24208854\n",
      "   0.06459135]\n",
      " [-1.15726958  1.88112959  1.41868462 ... -0.00405909  1.43512945\n",
      "  -0.61611067]]\n"
     ]
    }
   ],
   "source": [
    "scaler = StandardScaler()\n",
    "\n",
    "scaler.fit(X)\n",
    "\n",
    "X = scaler.transform(X)\n",
    "print(X)"
   ]
  },
  {
   "cell_type": "code",
   "execution_count": 17,
   "metadata": {},
   "outputs": [],
   "source": [
    "#Split the data into test and train\n",
    "X_train, X_test, Y_train, Y_test = train_test_split(X, Y, test_size=0.2,random_state=10)"
   ]
  },
  {
   "cell_type": "code",
   "execution_count": 18,
   "metadata": {},
   "outputs": [
    {
     "name": "stdout",
     "output_type": "stream",
     "text": [
      "[(0.0, 0.0), (1.0, 1.0), (0.0, 0.0), (1.0, 1.0), (0.0, 0.0), (0.0, 0.0), (1.0, 0.0), (0.0, 0.0), (0.0, 0.0), (0.0, 0.0), (0.0, 0.0), (0.0, 0.0), (0.0, 0.0), (0.0, 0.0), (1.0, 0.0), (0.0, 0.0), (0.0, 0.0), (0.0, 0.0), (0.0, 0.0), (0.0, 0.0), (0.0, 0.0), (1.0, 0.0), (1.0, 0.0), (0.0, 0.0), (0.0, 0.0), (1.0, 0.0), (0.0, 0.0), (0.0, 0.0), (0.0, 0.0), (1.0, 0.0), (0.0, 0.0), (1.0, 1.0), (1.0, 1.0), (1.0, 0.0), (0.0, 0.0), (0.0, 0.0), (0.0, 0.0), (0.0, 0.0), (0.0, 0.0), (0.0, 0.0), (1.0, 1.0), (0.0, 0.0), (0.0, 0.0), (1.0, 1.0), (0.0, 1.0), (0.0, 1.0), (0.0, 0.0), (0.0, 0.0), (0.0, 0.0), (1.0, 0.0), (1.0, 0.0), (1.0, 1.0), (0.0, 0.0), (0.0, 0.0), (1.0, 1.0), (1.0, 0.0), (1.0, 0.0), (0.0, 0.0), (0.0, 0.0), (0.0, 0.0), (1.0, 1.0), (0.0, 0.0), (0.0, 0.0), (0.0, 0.0), (0.0, 0.0), (0.0, 0.0), (0.0, 1.0), (1.0, 0.0), (0.0, 0.0), (0.0, 0.0), (0.0, 0.0), (0.0, 0.0), (0.0, 0.0), (0.0, 1.0), (0.0, 0.0), (1.0, 0.0), (1.0, 1.0), (1.0, 1.0), (1.0, 0.0), (0.0, 0.0), (0.0, 1.0), (0.0, 0.0), (1.0, 0.0), (0.0, 0.0), (0.0, 0.0), (1.0, 0.0), (1.0, 0.0), (1.0, 0.0), (1.0, 0.0), (0.0, 0.0), (0.0, 1.0), (0.0, 0.0), (0.0, 0.0), (0.0, 0.0), (1.0, 1.0), (0.0, 0.0), (1.0, 1.0), (0.0, 0.0), (1.0, 0.0), (0.0, 0.0), (1.0, 1.0), (1.0, 1.0), (0.0, 1.0), (0.0, 1.0), (1.0, 1.0), (0.0, 0.0), (1.0, 1.0), (0.0, 0.0), (0.0, 0.0), (1.0, 0.0), (1.0, 0.0), (0.0, 0.0), (0.0, 0.0), (0.0, 0.0), (0.0, 0.0), (1.0, 0.0), (0.0, 0.0), (1.0, 1.0), (0.0, 0.0), (1.0, 1.0), (0.0, 1.0), (1.0, 1.0), (0.0, 0.0), (0.0, 0.0), (1.0, 0.0), (1.0, 1.0), (0.0, 1.0), (1.0, 0.0), (0.0, 1.0), (0.0, 0.0), (0.0, 0.0), (0.0, 0.0), (0.0, 0.0), (1.0, 0.0), (0.0, 0.0), (1.0, 1.0), (1.0, 1.0), (0.0, 0.0), (0.0, 0.0), (1.0, 1.0), (1.0, 1.0), (1.0, 0.0), (1.0, 0.0), (0.0, 0.0), (0.0, 0.0), (1.0, 1.0), (0.0, 0.0), (1.0, 1.0), (0.0, 0.0), (1.0, 0.0), (1.0, 0.0), (0.0, 0.0), (0.0, 0.0), (0.0, 0.0)]\n",
      "\n",
      "[('Pregnancies', 0.3473104482397146), ('Glucose', 1.1481689452193018), ('BloodPressure', -0.03724733238798797), ('SkinThickness', -0.08533845326313103), ('Insulin', 0.06673676513871471), ('BMI', 0.6221310435203784), ('Age', 0.1189719323327322)]\n"
     ]
    }
   ],
   "source": [
    "#create a model\n",
    "classifier=LogisticRegression()\n",
    "#fitting training data to the model\n",
    "classifier.fit(X_train,Y_train)\n",
    "\n",
    "Y_pred=classifier.predict(X_test)\n",
    "print(list(zip(Y_test,Y_pred)))\n",
    "print()\n",
    "print(list(zip(diabeties.columns[:-1],classifier.coef_.ravel())))\n",
    "#print(classifier.intercept_)"
   ]
  },
  {
   "cell_type": "code",
   "execution_count": 19,
   "metadata": {},
   "outputs": [
    {
     "name": "stdout",
     "output_type": "stream",
     "text": [
      "[[86 11]\n",
      " [30 27]]\n",
      "Classification report: \n",
      "              precision    recall  f1-score   support\n",
      "\n",
      "         0.0       0.74      0.89      0.81        97\n",
      "         1.0       0.71      0.47      0.57        57\n",
      "\n",
      "    accuracy                           0.73       154\n",
      "   macro avg       0.73      0.68      0.69       154\n",
      "weighted avg       0.73      0.73      0.72       154\n",
      "\n",
      "Accuracy of the model:  0.7337662337662337\n"
     ]
    }
   ],
   "source": [
    "cfm=confusion_matrix(Y_test,Y_pred)\n",
    "print(cfm)\n",
    "\n",
    "print(\"Classification report: \")\n",
    "print(classification_report(Y_test,Y_pred))\n",
    "\n",
    "acc=accuracy_score(Y_test, Y_pred)\n",
    "print(\"Accuracy of the model: \",acc)"
   ]
  },
  {
   "cell_type": "markdown",
   "metadata": {},
   "source": [
    "### Log Model Tunning"
   ]
  },
  {
   "cell_type": "code",
   "execution_count": 20,
   "metadata": {},
   "outputs": [
    {
     "name": "stdout",
     "output_type": "stream",
     "text": [
      "[[0.95244058 0.04755942]\n",
      " [0.35957072 0.64042928]\n",
      " [0.91014154 0.08985846]\n",
      " [0.37647615 0.62352385]\n",
      " [0.93894203 0.06105797]\n",
      " [0.94225458 0.05774542]\n",
      " [0.67934569 0.32065431]\n",
      " [0.58530398 0.41469602]\n",
      " [0.97044288 0.02955712]\n",
      " [0.98216568 0.01783432]\n",
      " [0.92481299 0.07518701]\n",
      " [0.86064102 0.13935898]\n",
      " [0.94986075 0.05013925]\n",
      " [0.99770919 0.00229081]\n",
      " [0.71899934 0.28100066]\n",
      " [0.87456339 0.12543661]\n",
      " [0.74450776 0.25549224]\n",
      " [0.93296298 0.06703702]\n",
      " [0.9318372  0.0681628 ]\n",
      " [0.93322728 0.06677272]\n",
      " [0.51017878 0.48982122]\n",
      " [0.62163874 0.37836126]\n",
      " [0.66287053 0.33712947]\n",
      " [0.93723836 0.06276164]\n",
      " [0.56377943 0.43622057]\n",
      " [0.91786237 0.08213763]\n",
      " [0.79355518 0.20644482]\n",
      " [0.75334003 0.24665997]\n",
      " [0.85473648 0.14526352]\n",
      " [0.66117016 0.33882984]\n",
      " [0.91677731 0.08322269]\n",
      " [0.04672437 0.95327563]\n",
      " [0.46375733 0.53624267]\n",
      " [0.85601792 0.14398208]\n",
      " [0.6022782  0.3977218 ]\n",
      " [0.94679048 0.05320952]\n",
      " [0.94670267 0.05329733]\n",
      " [0.93536734 0.06463266]\n",
      " [0.87570138 0.12429862]\n",
      " [0.96252573 0.03747427]\n",
      " [0.17161074 0.82838926]\n",
      " [0.8106506  0.1893494 ]\n",
      " [0.99700255 0.00299745]\n",
      " [0.28705852 0.71294148]\n",
      " [0.37376483 0.62623517]\n",
      " [0.22333306 0.77666694]\n",
      " [0.85709591 0.14290409]\n",
      " [0.8360597  0.1639403 ]\n",
      " [0.90742763 0.09257237]\n",
      " [0.57206703 0.42793297]\n",
      " [0.76145663 0.23854337]\n",
      " [0.16713087 0.83286913]\n",
      " [0.93487139 0.06512861]\n",
      " [0.90991321 0.09008679]\n",
      " [0.20000744 0.79999256]\n",
      " [0.62759538 0.37240462]\n",
      " [0.61365253 0.38634747]\n",
      " [0.78902068 0.21097932]\n",
      " [0.88514076 0.11485924]\n",
      " [0.65007321 0.34992679]\n",
      " [0.25583622 0.74416378]\n",
      " [0.9082401  0.0917599 ]\n",
      " [0.90075611 0.09924389]\n",
      " [0.8106361  0.1893639 ]\n",
      " [0.61562017 0.38437983]\n",
      " [0.82594832 0.17405168]\n",
      " [0.3539976  0.6460024 ]\n",
      " [0.73968117 0.26031883]\n",
      " [0.91917572 0.08082428]\n",
      " [0.79857544 0.20142456]\n",
      " [0.86968807 0.13031193]\n",
      " [0.70463654 0.29536346]\n",
      " [0.9407896  0.0592104 ]\n",
      " [0.17903407 0.82096593]\n",
      " [0.87149967 0.12850033]\n",
      " [0.75285903 0.24714097]\n",
      " [0.12739084 0.87260916]\n",
      " [0.22785746 0.77214254]\n",
      " [0.68457428 0.31542572]\n",
      " [0.9937721  0.0062279 ]\n",
      " [0.40619711 0.59380289]\n",
      " [0.66472934 0.33527066]\n",
      " [0.53922351 0.46077649]\n",
      " [0.92493315 0.07506685]\n",
      " [0.64371842 0.35628158]\n",
      " [0.69454444 0.30545556]\n",
      " [0.83275359 0.16724641]\n",
      " [0.71694303 0.28305697]\n",
      " [0.73795773 0.26204227]\n",
      " [0.91129496 0.08870504]\n",
      " [0.44400896 0.55599104]\n",
      " [0.96513401 0.03486599]\n",
      " [0.83283576 0.16716424]\n",
      " [0.78645682 0.21354318]\n",
      " [0.31571209 0.68428791]\n",
      " [0.84394445 0.15605555]\n",
      " [0.48784825 0.51215175]\n",
      " [0.93862041 0.06137959]\n",
      " [0.77134609 0.22865391]\n",
      " [0.94566548 0.05433452]\n",
      " [0.2042092  0.7957908 ]\n",
      " [0.27097853 0.72902147]\n",
      " [0.3489062  0.6510938 ]\n",
      " [0.43860405 0.56139595]\n",
      " [0.33447893 0.66552107]\n",
      " [0.91050632 0.08949368]\n",
      " [0.45092071 0.54907929]\n",
      " [0.69346817 0.30653183]\n",
      " [0.75792898 0.24207102]\n",
      " [0.60142781 0.39857219]\n",
      " [0.73084347 0.26915653]\n",
      " [0.98107386 0.01892614]\n",
      " [0.91040327 0.08959673]\n",
      " [0.60193237 0.39806763]\n",
      " [0.89109402 0.10890598]\n",
      " [0.6817481  0.3182519 ]\n",
      " [0.96272046 0.03727954]\n",
      " [0.25629644 0.74370356]\n",
      " [0.84913338 0.15086662]\n",
      " [0.37423965 0.62576035]\n",
      " [0.23323201 0.76676799]\n",
      " [0.46673875 0.53326125]\n",
      " [0.71515544 0.28484456]\n",
      " [0.90960002 0.09039998]\n",
      " [0.86236339 0.13763661]\n",
      " [0.25067502 0.74932498]\n",
      " [0.23156981 0.76843019]\n",
      " [0.98967442 0.01032558]\n",
      " [0.40105606 0.59894394]\n",
      " [0.60333373 0.39666627]\n",
      " [0.88758462 0.11241538]\n",
      " [0.87257121 0.12742879]\n",
      " [0.75443656 0.24556344]\n",
      " [0.54315444 0.45684556]\n",
      " [0.86537148 0.13462852]\n",
      " [0.08661043 0.91338957]\n",
      " [0.21671998 0.78328002]\n",
      " [0.67435165 0.32564835]\n",
      " [0.93980483 0.06019517]\n",
      " [0.05939545 0.94060455]\n",
      " [0.36227546 0.63772454]\n",
      " [0.62549652 0.37450348]\n",
      " [0.98947613 0.01052387]\n",
      " [0.90436028 0.09563972]\n",
      " [0.90920217 0.09079783]\n",
      " [0.48541836 0.51458164]\n",
      " [0.92867948 0.07132052]\n",
      " [0.28392751 0.71607249]\n",
      " [0.87354914 0.12645086]\n",
      " [0.59066351 0.40933649]\n",
      " [0.63989472 0.36010528]\n",
      " [0.67045132 0.32954868]\n",
      " [0.90220082 0.09779918]\n",
      " [0.53422141 0.46577859]]\n"
     ]
    }
   ],
   "source": [
    "# store the predicted probabilities\n",
    "y_pred_prob = classifier.predict_proba(X_test)\n",
    "print(y_pred_prob)"
   ]
  },
  {
   "cell_type": "code",
   "execution_count": 21,
   "metadata": {
    "scrolled": true
   },
   "outputs": [
    {
     "name": "stdout",
     "output_type": "stream",
     "text": [
      "Errors at threshold  0.3 : 39  , type 2 error : 14  , type 1 error: 25\n",
      "Errors at threshold  0.31 : 39  , type 2 error : 15  , type 1 error: 24\n",
      "Errors at threshold  0.32 : 41  , type 2 error : 17  , type 1 error: 24\n",
      "Errors at threshold  0.33 : 40  , type 2 error : 18  , type 1 error: 22\n",
      "Errors at threshold  0.34 : 41  , type 2 error : 20  , type 1 error: 21\n",
      "Errors at threshold  0.35000000000000003 : 40  , type 2 error : 20  , type 1 error: 20\n",
      "Errors at threshold  0.36000000000000004 : 39  , type 2 error : 20  , type 1 error: 19\n",
      "Errors at threshold  0.37000000000000005 : 40  , type 2 error : 21  , type 1 error: 19\n",
      "Errors at threshold  0.38000000000000006 : 43  , type 2 error : 24  , type 1 error: 19\n",
      "Errors at threshold  0.39000000000000007 : 43  , type 2 error : 25  , type 1 error: 18\n",
      "Errors at threshold  0.4000000000000001 : 41  , type 2 error : 26  , type 1 error: 15\n",
      "Errors at threshold  0.4100000000000001 : 42  , type 2 error : 27  , type 1 error: 15\n",
      "Errors at threshold  0.4200000000000001 : 41  , type 2 error : 27  , type 1 error: 14\n",
      "Errors at threshold  0.4300000000000001 : 42  , type 2 error : 28  , type 1 error: 14\n",
      "Errors at threshold  0.4400000000000001 : 41  , type 2 error : 28  , type 1 error: 13\n",
      "Errors at threshold  0.4500000000000001 : 41  , type 2 error : 28  , type 1 error: 13\n",
      "Errors at threshold  0.46000000000000013 : 42  , type 2 error : 29  , type 1 error: 13\n",
      "Errors at threshold  0.47000000000000014 : 42  , type 2 error : 30  , type 1 error: 12\n",
      "Errors at threshold  0.48000000000000015 : 42  , type 2 error : 30  , type 1 error: 12\n",
      "Errors at threshold  0.49000000000000016 : 41  , type 2 error : 30  , type 1 error: 11\n",
      "Errors at threshold  0.5000000000000002 : 41  , type 2 error : 30  , type 1 error: 11\n",
      "Errors at threshold  0.5100000000000002 : 41  , type 2 error : 30  , type 1 error: 11\n",
      "Errors at threshold  0.5200000000000002 : 43  , type 2 error : 32  , type 1 error: 11\n",
      "Errors at threshold  0.5300000000000002 : 43  , type 2 error : 32  , type 1 error: 11\n",
      "Errors at threshold  0.5400000000000003 : 45  , type 2 error : 34  , type 1 error: 11\n",
      "Errors at threshold  0.5500000000000003 : 46  , type 2 error : 35  , type 1 error: 11\n",
      "Errors at threshold  0.5600000000000003 : 45  , type 2 error : 35  , type 1 error: 10\n",
      "Errors at threshold  0.5700000000000003 : 44  , type 2 error : 35  , type 1 error: 9\n",
      "Errors at threshold  0.5800000000000003 : 44  , type 2 error : 35  , type 1 error: 9\n",
      "Errors at threshold  0.5900000000000003 : 44  , type 2 error : 35  , type 1 error: 9\n",
      "Errors at threshold  0.6000000000000003 : 42  , type 2 error : 35  , type 1 error: 7\n"
     ]
    }
   ],
   "source": [
    "for a in np.arange(0.3,0.61,0.01):\n",
    "    predict_mine = np.where(y_pred_prob[:,1] > a, 1, 0)\n",
    "    cfm=confusion_matrix(Y_test, predict_mine)\n",
    "    total_err=cfm[0,1]+cfm[1,0]\n",
    "    print(\"Errors at threshold \", a, \":\",total_err, \" , type 2 error :\", \n",
    "          cfm[1,0],\" , type 1 error:\", cfm[0,1])"
   ]
  },
  {
   "cell_type": "code",
   "execution_count": 22,
   "metadata": {},
   "outputs": [
    {
     "name": "stdout",
     "output_type": "stream",
     "text": [
      "[0, 1, 0, 1, 0, 0, 0, 1, 0, 0, 0, 0, 0, 0, 0, 0, 0, 0, 0, 0, 1, 0, 0, 0, 1, 0, 0, 0, 0, 0, 0, 1, 1, 0, 0, 0, 0, 0, 0, 0, 1, 0, 0, 1, 1, 1, 0, 0, 0, 1, 0, 1, 0, 0, 1, 0, 0, 0, 0, 0, 1, 0, 0, 0, 0, 0, 1, 0, 0, 0, 0, 0, 0, 1, 0, 0, 1, 1, 0, 0, 1, 0, 1, 0, 0, 0, 0, 0, 0, 0, 1, 0, 0, 0, 1, 0, 1, 0, 0, 0, 1, 1, 1, 1, 1, 0, 1, 0, 0, 0, 0, 0, 0, 0, 0, 0, 0, 1, 0, 1, 1, 1, 0, 0, 0, 1, 1, 0, 1, 0, 0, 0, 0, 1, 0, 1, 1, 0, 0, 1, 1, 0, 0, 0, 0, 1, 0, 1, 0, 1, 0, 0, 0, 1]\n"
     ]
    }
   ],
   "source": [
    "y_pred_class=[]\n",
    "for value in y_pred_prob[:,1]:\n",
    "    if value > 0.4:\n",
    "        y_pred_class.append(1)\n",
    "    else:\n",
    "        y_pred_class.append(0)\n",
    "print(y_pred_class)"
   ]
  },
  {
   "cell_type": "code",
   "execution_count": 23,
   "metadata": {},
   "outputs": [
    {
     "name": "stdout",
     "output_type": "stream",
     "text": [
      "[[82 15]\n",
      " [26 31]]\n",
      "Accuracy of the model:  0.7337662337662337\n",
      "              precision    recall  f1-score   support\n",
      "\n",
      "         0.0       0.76      0.85      0.80        97\n",
      "         1.0       0.67      0.54      0.60        57\n",
      "\n",
      "    accuracy                           0.73       154\n",
      "   macro avg       0.72      0.69      0.70       154\n",
      "weighted avg       0.73      0.73      0.73       154\n",
      "\n"
     ]
    }
   ],
   "source": [
    "cfm=confusion_matrix(Y_test,y_pred_class)\n",
    "print(cfm)\n",
    "acc=accuracy_score(Y_test, y_pred_class)\n",
    "print(\"Accuracy of the model: \",acc)\n",
    "print(classification_report(Y_test, y_pred_class))"
   ]
  },
  {
   "cell_type": "code",
   "execution_count": 24,
   "metadata": {},
   "outputs": [
    {
     "name": "stdout",
     "output_type": "stream",
     "text": [
      "0.8140712606257913\n"
     ]
    }
   ],
   "source": [
    "fpr, tpr, z = metrics.roc_curve(Y_test, y_pred_prob[:,1])\n",
    "auc = metrics.auc(fpr,tpr)\n",
    "\n",
    "print(auc)"
   ]
  },
  {
   "cell_type": "code",
   "execution_count": 25,
   "metadata": {},
   "outputs": [
    {
     "data": {
      "image/png": "[encoded data removed]",
      "text/plain": [
       "<Figure size 432x288 with 1 Axes>"
      ]
     },
     "metadata": {
      "needs_background": "light"
     },
     "output_type": "display_data"
    }
   ],
   "source": [
    "plt.title('Receiver Operating Characteristic')\n",
    "plt.plot(fpr,tpr, 'b', label = auc)\n",
    "plt.legend(loc = 'lower right')\n",
    "plt.plot([0, 1], [0, 1],'r--')\n",
    "plt.xlim([0, 1])\n",
    "plt.ylim([0, 1])\n",
    "plt.xlabel('False Positive Rate')\n",
    "plt.ylabel('True Positive Rate')\n",
    "\n",
    "plt.show()"
   ]
  },
  {
   "cell_type": "markdown",
   "metadata": {},
   "source": [
    "### SGD"
   ]
  },
  {
   "cell_type": "code",
   "execution_count": 26,
   "metadata": {},
   "outputs": [],
   "source": [
    "X_train, X_test, Y_train, Y_test = train_test_split(X, Y, test_size=0.2,random_state=10)"
   ]
  },
  {
   "cell_type": "code",
   "execution_count": 27,
   "metadata": {},
   "outputs": [
    {
     "name": "stdout",
     "output_type": "stream",
     "text": [
      "[('Pregnancies', 0.3473104482397146), ('Glucose', 1.1481689452193018), ('BloodPressure', -0.03724733238798797), ('SkinThickness', -0.08533845326313103), ('Insulin', 0.06673676513871471), ('BMI', 0.6221310435203784), ('Age', 0.1189719323327322)]\n",
      "[-0.93665378]\n"
     ]
    }
   ],
   "source": [
    "classifier_SGD=SGDClassifier(loss=\"log\",random_state=10,alpha=0.01,max_iter=1000, shuffle=True,\n",
    "                         early_stopping=True,n_iter_no_change=3)\n",
    "classifier_SGD.fit(X_train,Y_train)\n",
    "\n",
    "\n",
    "Y_pred=classifier_SGD.predict(X_test)\n",
    "print(list(zip(diabeties_rev.columns[:-1],classifier.coef_.ravel())))\n",
    "print(classifier.intercept_)"
   ]
  },
  {
   "cell_type": "code",
   "execution_count": 28,
   "metadata": {},
   "outputs": [
    {
     "name": "stdout",
     "output_type": "stream",
     "text": [
      "[[88  9]\n",
      " [31 26]]\n",
      "Accuracy of the model:  0.7402597402597403\n",
      "Classification report: \n",
      "              precision    recall  f1-score   support\n",
      "\n",
      "         0.0       0.74      0.91      0.81        97\n",
      "         1.0       0.74      0.46      0.57        57\n",
      "\n",
      "    accuracy                           0.74       154\n",
      "   macro avg       0.74      0.68      0.69       154\n",
      "weighted avg       0.74      0.74      0.72       154\n",
      "\n"
     ]
    }
   ],
   "source": [
    "cfm=confusion_matrix(Y_test,Y_pred)\n",
    "print(cfm)\n",
    "\n",
    "acc=accuracy_score(Y_test, Y_pred)\n",
    "print(\"Accuracy of the model: \",acc)\n",
    "\n",
    "print(\"Classification report: \")\n",
    "print(classification_report(Y_test,Y_pred))"
   ]
  },
  {
   "cell_type": "markdown",
   "metadata": {},
   "source": [
    "## Tune SGD Classifier"
   ]
  },
  {
   "cell_type": "code",
   "execution_count": 29,
   "metadata": {},
   "outputs": [],
   "source": [
    "X_train, X_test, Y_train, Y_test = train_test_split(X, Y, test_size=0.2,random_state=10)"
   ]
  },
  {
   "cell_type": "code",
   "execution_count": 30,
   "metadata": {},
   "outputs": [
    {
     "name": "stdout",
     "output_type": "stream",
     "text": [
      "[('Pregnancies', 0.3473104482397146), ('Glucose', 1.1481689452193018), ('BloodPressure', -0.03724733238798797), ('SkinThickness', -0.08533845326313103), ('Insulin', 0.06673676513871471), ('BMI', 0.6221310435203784), ('Age', 0.1189719323327322)]\n",
      "[-0.93665378]\n"
     ]
    }
   ],
   "source": [
    "classifier_SGD_tune=SGDClassifier(loss=\"log\",random_state=10,alpha=0.01,max_iter=1000, shuffle=True,\n",
    "                             early_stopping=True, n_iter_no_change=2)\n",
    "\n",
    "classifier_SGD_tune.fit(X_train,Y_train)\n",
    "\n",
    "Y_pred=classifier_SGD_tune.predict(X_test)\n",
    "print(list(zip(diabeties_rev.columns[:-1],classifier.coef_.ravel())))\n",
    "print(classifier.intercept_)"
   ]
  },
  {
   "cell_type": "code",
   "execution_count": 31,
   "metadata": {},
   "outputs": [
    {
     "name": "stdout",
     "output_type": "stream",
     "text": [
      "[[85 12]\n",
      " [27 30]]\n",
      "Accuracy of the model:  0.7467532467532467\n",
      "Classification report: \n",
      "              precision    recall  f1-score   support\n",
      "\n",
      "         0.0       0.76      0.88      0.81        97\n",
      "         1.0       0.71      0.53      0.61        57\n",
      "\n",
      "    accuracy                           0.75       154\n",
      "   macro avg       0.74      0.70      0.71       154\n",
      "weighted avg       0.74      0.75      0.74       154\n",
      "\n"
     ]
    }
   ],
   "source": [
    "cfm=confusion_matrix(Y_test,Y_pred)\n",
    "print(cfm)\n",
    "\n",
    "acc=accuracy_score(Y_test, Y_pred)\n",
    "print(\"Accuracy of the model: \",acc)\n",
    "\n",
    "print(\"Classification report: \")\n",
    "print(classification_report(Y_test,Y_pred))"
   ]
  },
  {
   "cell_type": "code",
   "execution_count": 32,
   "metadata": {},
   "outputs": [
    {
     "name": "stdout",
     "output_type": "stream",
     "text": [
      "[[0.95808751 0.04191249]\n",
      " [0.31609541 0.68390459]\n",
      " [0.92368379 0.07631621]\n",
      " [0.1790634  0.8209366 ]\n",
      " [0.95174437 0.04825563]\n",
      " [0.95506803 0.04493197]\n",
      " [0.66009018 0.33990982]\n",
      " [0.56450009 0.43549991]\n",
      " [0.98346935 0.01653065]\n",
      " [0.959345   0.040655  ]\n",
      " [0.92634773 0.07365227]\n",
      " [0.87543911 0.12456089]\n",
      " [0.96020446 0.03979554]\n",
      " [0.99854962 0.00145038]\n",
      " [0.73617893 0.26382107]\n",
      " [0.8811615  0.1188385 ]\n",
      " [0.73241697 0.26758303]\n",
      " [0.93768044 0.06231956]\n",
      " [0.92333169 0.07666831]\n",
      " [0.94716747 0.05283253]\n",
      " [0.52242381 0.47757619]\n",
      " [0.61922253 0.38077747]\n",
      " [0.47443961 0.52556039]\n",
      " [0.9515007  0.0484993 ]\n",
      " [0.48020539 0.51979461]\n",
      " [0.93115255 0.06884745]\n",
      " [0.80316034 0.19683966]\n",
      " [0.72455977 0.27544023]\n",
      " [0.8686498  0.1313502 ]\n",
      " [0.67101561 0.32898439]\n",
      " [0.89950565 0.10049435]\n",
      " [0.01913335 0.98086665]\n",
      " [0.40540919 0.59459081]\n",
      " [0.85471586 0.14528414]\n",
      " [0.57846765 0.42153235]\n",
      " [0.94198679 0.05801321]\n",
      " [0.95426946 0.04573054]\n",
      " [0.9421293  0.0578707 ]\n",
      " [0.88724993 0.11275007]\n",
      " [0.97395795 0.02604205]\n",
      " [0.11364202 0.88635798]\n",
      " [0.83141914 0.16858086]\n",
      " [0.99811345 0.00188655]\n",
      " [0.28533751 0.71466249]\n",
      " [0.28904428 0.71095572]\n",
      " [0.13733547 0.86266453]\n",
      " [0.89540317 0.10459683]\n",
      " [0.85130436 0.14869564]\n",
      " [0.91339007 0.08660993]\n",
      " [0.60054695 0.39945305]\n",
      " [0.73067025 0.26932975]\n",
      " [0.12695889 0.87304111]\n",
      " [0.94815062 0.05184938]\n",
      " [0.91149891 0.08850109]\n",
      " [0.15844859 0.84155141]\n",
      " [0.66635481 0.33364519]\n",
      " [0.6137621  0.3862379 ]\n",
      " [0.78647969 0.21352031]\n",
      " [0.91693254 0.08306746]\n",
      " [0.6302882  0.3697118 ]\n",
      " [0.2146261  0.7853739 ]\n",
      " [0.92641251 0.07358749]\n",
      " [0.88284384 0.11715616]\n",
      " [0.81033871 0.18966129]\n",
      " [0.59004028 0.40995972]\n",
      " [0.83894613 0.16105387]\n",
      " [0.37287005 0.62712995]\n",
      " [0.76895711 0.23104289]\n",
      " [0.9323794  0.0676206 ]\n",
      " [0.79968605 0.20031395]\n",
      " [0.86639026 0.13360974]\n",
      " [0.68117055 0.31882945]\n",
      " [0.95621909 0.04378091]\n",
      " [0.13178535 0.86821465]\n",
      " [0.88424024 0.11575976]\n",
      " [0.76280699 0.23719301]\n",
      " [0.10527887 0.89472113]\n",
      " [0.1453559  0.8546441 ]\n",
      " [0.69665528 0.30334472]\n",
      " [0.99672354 0.00327646]\n",
      " [0.34701877 0.65298123]\n",
      " [0.51524601 0.48475399]\n",
      " [0.40041975 0.59958025]\n",
      " [0.94769004 0.05230996]\n",
      " [0.55059758 0.44940242]\n",
      " [0.68736713 0.31263287]\n",
      " [0.80736869 0.19263131]\n",
      " [0.65276714 0.34723286]\n",
      " [0.76587867 0.23412133]\n",
      " [0.92706447 0.07293553]\n",
      " [0.44513119 0.55486881]\n",
      " [0.97606081 0.02393919]\n",
      " [0.79851066 0.20148934]\n",
      " [0.76996334 0.23003666]\n",
      " [0.18317955 0.81682045]\n",
      " [0.8772739  0.1227261 ]\n",
      " [0.48068912 0.51931088]\n",
      " [0.95357736 0.04642264]\n",
      " [0.66114443 0.33885557]\n",
      " [0.95799515 0.04200485]\n",
      " [0.18540716 0.81459284]\n",
      " [0.21978807 0.78021193]\n",
      " [0.17763138 0.82236862]\n",
      " [0.37966069 0.62033931]\n",
      " [0.34127038 0.65872962]\n",
      " [0.91482766 0.08517234]\n",
      " [0.27242476 0.72757524]\n",
      " [0.71177705 0.28822295]\n",
      " [0.80541836 0.19458164]\n",
      " [0.50731708 0.49268292]\n",
      " [0.7630321  0.2369679 ]\n",
      " [0.98548697 0.01451303]\n",
      " [0.90831578 0.09168422]\n",
      " [0.59747689 0.40252311]\n",
      " [0.90490881 0.09509119]\n",
      " [0.5210157  0.4789843 ]\n",
      " [0.97217798 0.02782202]\n",
      " [0.23213074 0.76786926]\n",
      " [0.88393331 0.11606669]\n",
      " [0.2841988  0.7158012 ]\n",
      " [0.14215541 0.85784459]\n",
      " [0.43557164 0.56442836]\n",
      " [0.72493562 0.27506438]\n",
      " [0.9156309  0.0843691 ]\n",
      " [0.84018584 0.15981416]\n",
      " [0.26255271 0.73744729]\n",
      " [0.21843963 0.78156037]\n",
      " [0.99085776 0.00914224]\n",
      " [0.27486936 0.72513064]\n",
      " [0.54353758 0.45646242]\n",
      " [0.88109291 0.11890709]\n",
      " [0.87042611 0.12957389]\n",
      " [0.7719005  0.2280995 ]\n",
      " [0.47798431 0.52201569]\n",
      " [0.8794084  0.1205916 ]\n",
      " [0.06989891 0.93010109]\n",
      " [0.1505247  0.8494753 ]\n",
      " [0.62116416 0.37883584]\n",
      " [0.95483456 0.04516544]\n",
      " [0.02434784 0.97565216]\n",
      " [0.34391031 0.65608969]\n",
      " [0.54663568 0.45336432]\n",
      " [0.99080063 0.00919937]\n",
      " [0.92491596 0.07508404]\n",
      " [0.92031274 0.07968726]\n",
      " [0.44471351 0.55528649]\n",
      " [0.94419967 0.05580033]\n",
      " [0.30516848 0.69483152]\n",
      " [0.89430731 0.10569269]\n",
      " [0.58291602 0.41708398]\n",
      " [0.63116723 0.36883277]\n",
      " [0.67681617 0.32318383]\n",
      " [0.89818654 0.10181346]\n",
      " [0.55788039 0.44211961]]\n"
     ]
    }
   ],
   "source": [
    "# store the predicted probabilities\n",
    "y_pred_prob = classifier_SGD_tune.predict_proba(X_test)\n",
    "print(y_pred_prob)"
   ]
  },
  {
   "cell_type": "code",
   "execution_count": 33,
   "metadata": {
    "scrolled": true
   },
   "outputs": [
    {
     "name": "stdout",
     "output_type": "stream",
     "text": [
      "Errors at threshold  0.4 : 44  , type 2 error : 23  , type 1 error: 21\n",
      "Errors at threshold  0.41000000000000003 : 42  , type 2 error : 23  , type 1 error: 19\n",
      "Errors at threshold  0.42000000000000004 : 43  , type 2 error : 24  , type 1 error: 19\n",
      "Errors at threshold  0.43000000000000005 : 42  , type 2 error : 24  , type 1 error: 18\n",
      "Errors at threshold  0.44000000000000006 : 41  , type 2 error : 24  , type 1 error: 17\n",
      "Errors at threshold  0.45000000000000007 : 39  , type 2 error : 24  , type 1 error: 15\n",
      "Errors at threshold  0.4600000000000001 : 39  , type 2 error : 25  , type 1 error: 14\n",
      "Errors at threshold  0.4700000000000001 : 39  , type 2 error : 25  , type 1 error: 14\n",
      "Errors at threshold  0.4800000000000001 : 39  , type 2 error : 26  , type 1 error: 13\n",
      "Errors at threshold  0.4900000000000001 : 38  , type 2 error : 26  , type 1 error: 12\n",
      "Errors at threshold  0.5000000000000001 : 39  , type 2 error : 27  , type 1 error: 12\n",
      "Errors at threshold  0.5100000000000001 : 39  , type 2 error : 27  , type 1 error: 12\n",
      "Errors at threshold  0.5200000000000001 : 39  , type 2 error : 28  , type 1 error: 11\n",
      "Errors at threshold  0.5300000000000001 : 41  , type 2 error : 30  , type 1 error: 11\n",
      "Errors at threshold  0.5400000000000001 : 41  , type 2 error : 30  , type 1 error: 11\n",
      "Errors at threshold  0.5500000000000002 : 41  , type 2 error : 30  , type 1 error: 11\n",
      "Errors at threshold  0.5600000000000002 : 41  , type 2 error : 31  , type 1 error: 10\n",
      "Errors at threshold  0.5700000000000002 : 42  , type 2 error : 32  , type 1 error: 10\n",
      "Errors at threshold  0.5800000000000002 : 42  , type 2 error : 32  , type 1 error: 10\n",
      "Errors at threshold  0.5900000000000002 : 42  , type 2 error : 32  , type 1 error: 10\n",
      "Errors at threshold  0.6000000000000002 : 44  , type 2 error : 34  , type 1 error: 10\n"
     ]
    }
   ],
   "source": [
    "for a in np.arange(0.4,0.61,0.01):\n",
    "    predict_mine = np.where(y_pred_prob[:,1] > a, 1, 0)\n",
    "    cfm=confusion_matrix(Y_test, predict_mine)\n",
    "    total_err=cfm[0,1]+cfm[1,0]\n",
    "    print(\"Errors at threshold \", a, \":\",total_err, \" , type 2 error :\", \n",
    "          cfm[1,0],\" , type 1 error:\", cfm[0,1])"
   ]
  },
  {
   "cell_type": "markdown",
   "metadata": {},
   "source": [
    "## KNN"
   ]
  },
  {
   "cell_type": "code",
   "execution_count": 34,
   "metadata": {},
   "outputs": [],
   "source": [
    "X_train, X_test, Y_train, Y_test = train_test_split(X, Y, test_size=0.2,random_state=10)"
   ]
  },
  {
   "cell_type": "code",
   "execution_count": 35,
   "metadata": {},
   "outputs": [],
   "source": [
    "model_KNN=KNeighborsClassifier(n_neighbors=int(np.sqrt(len(X_train))),metric='euclidean')\n",
    "\n",
    "model_KNN.fit(X_train,Y_train)\n",
    "Y_pred=model_KNN.predict(X_test)"
   ]
  },
  {
   "cell_type": "code",
   "execution_count": 36,
   "metadata": {},
   "outputs": [
    {
     "name": "stdout",
     "output_type": "stream",
     "text": [
      "[[90  7]\n",
      " [40 17]]\n",
      "0.6948051948051948\n",
      "              precision    recall  f1-score   support\n",
      "\n",
      "         0.0       0.69      0.93      0.79        97\n",
      "         1.0       0.71      0.30      0.42        57\n",
      "\n",
      "    accuracy                           0.69       154\n",
      "   macro avg       0.70      0.61      0.61       154\n",
      "weighted avg       0.70      0.69      0.65       154\n",
      "\n"
     ]
    }
   ],
   "source": [
    "print(confusion_matrix(Y_test,Y_pred))\n",
    "print(accuracy_score(Y_test,Y_pred))\n",
    "print(classification_report(Y_test,Y_pred))"
   ]
  },
  {
   "cell_type": "markdown",
   "metadata": {},
   "source": [
    "## Tune KNN"
   ]
  },
  {
   "cell_type": "code",
   "execution_count": 37,
   "metadata": {},
   "outputs": [],
   "source": [
    "X_train, X_test, Y_train, Y_test = train_test_split(X, Y, test_size=0.2,random_state=10)"
   ]
  },
  {
   "cell_type": "code",
   "execution_count": 38,
   "metadata": {},
   "outputs": [],
   "source": [
    "model_KNN_tune=KNeighborsClassifier(n_neighbors=25,metric='euclidean')\n",
    "\n",
    "model_KNN_tune.fit(X_train,Y_train)\n",
    "Y_pred=model_KNN_tune.predict(X_test)"
   ]
  },
  {
   "cell_type": "code",
   "execution_count": 39,
   "metadata": {},
   "outputs": [
    {
     "name": "stdout",
     "output_type": "stream",
     "text": [
      "[[90  7]\n",
      " [33 24]]\n",
      "0.7402597402597403\n",
      "              precision    recall  f1-score   support\n",
      "\n",
      "         0.0       0.73      0.93      0.82        97\n",
      "         1.0       0.77      0.42      0.55        57\n",
      "\n",
      "    accuracy                           0.74       154\n",
      "   macro avg       0.75      0.67      0.68       154\n",
      "weighted avg       0.75      0.74      0.72       154\n",
      "\n"
     ]
    }
   ],
   "source": [
    "print(confusion_matrix(Y_test,Y_pred))\n",
    "print(accuracy_score(Y_test,Y_pred))\n",
    "print(classification_report(Y_test,Y_pred))"
   ]
  },
  {
   "cell_type": "code",
   "execution_count": 40,
   "metadata": {},
   "outputs": [
    {
     "name": "stdout",
     "output_type": "stream",
     "text": [
      "[[0.96 0.04]\n",
      " [0.48 0.52]\n",
      " [0.92 0.08]\n",
      " [0.56 0.44]\n",
      " [1.   0.  ]\n",
      " [0.96 0.04]\n",
      " [0.64 0.36]\n",
      " [0.56 0.44]\n",
      " [0.96 0.04]\n",
      " [0.84 0.16]\n",
      " [0.84 0.16]\n",
      " [0.88 0.12]\n",
      " [1.   0.  ]\n",
      " [0.96 0.04]\n",
      " [0.76 0.24]\n",
      " [0.96 0.04]\n",
      " [0.68 0.32]\n",
      " [0.8  0.2 ]\n",
      " [0.88 0.12]\n",
      " [0.88 0.12]\n",
      " [0.56 0.44]\n",
      " [0.52 0.48]\n",
      " [0.48 0.52]\n",
      " [0.96 0.04]\n",
      " [0.68 0.32]\n",
      " [0.92 0.08]\n",
      " [0.84 0.16]\n",
      " [0.72 0.28]\n",
      " [0.8  0.2 ]\n",
      " [0.64 0.36]\n",
      " [0.72 0.28]\n",
      " [0.24 0.76]\n",
      " [0.76 0.24]\n",
      " [0.76 0.24]\n",
      " [0.76 0.24]\n",
      " [1.   0.  ]\n",
      " [0.96 0.04]\n",
      " [0.88 0.12]\n",
      " [0.84 0.16]\n",
      " [0.88 0.12]\n",
      " [0.52 0.48]\n",
      " [0.88 0.12]\n",
      " [0.96 0.04]\n",
      " [0.48 0.52]\n",
      " [0.52 0.48]\n",
      " [0.28 0.72]\n",
      " [0.88 0.12]\n",
      " [0.88 0.12]\n",
      " [0.72 0.28]\n",
      " [0.6  0.4 ]\n",
      " [0.84 0.16]\n",
      " [0.24 0.76]\n",
      " [0.96 0.04]\n",
      " [0.88 0.12]\n",
      " [0.36 0.64]\n",
      " [0.56 0.44]\n",
      " [0.6  0.4 ]\n",
      " [0.88 0.12]\n",
      " [0.92 0.08]\n",
      " [0.88 0.12]\n",
      " [0.48 0.52]\n",
      " [0.88 0.12]\n",
      " [0.76 0.24]\n",
      " [0.84 0.16]\n",
      " [0.8  0.2 ]\n",
      " [0.84 0.16]\n",
      " [0.36 0.64]\n",
      " [0.8  0.2 ]\n",
      " [0.92 0.08]\n",
      " [0.76 0.24]\n",
      " [0.72 0.28]\n",
      " [0.68 0.32]\n",
      " [0.92 0.08]\n",
      " [0.32 0.68]\n",
      " [0.68 0.32]\n",
      " [0.48 0.52]\n",
      " [0.32 0.68]\n",
      " [0.28 0.72]\n",
      " [0.6  0.4 ]\n",
      " [0.96 0.04]\n",
      " [0.4  0.6 ]\n",
      " [0.56 0.44]\n",
      " [0.56 0.44]\n",
      " [0.96 0.04]\n",
      " [0.64 0.36]\n",
      " [0.72 0.28]\n",
      " [0.88 0.12]\n",
      " [0.48 0.52]\n",
      " [0.88 0.12]\n",
      " [0.88 0.12]\n",
      " [0.52 0.48]\n",
      " [0.96 0.04]\n",
      " [0.6  0.4 ]\n",
      " [0.72 0.28]\n",
      " [0.52 0.48]\n",
      " [0.92 0.08]\n",
      " [0.68 0.32]\n",
      " [1.   0.  ]\n",
      " [0.48 0.52]\n",
      " [1.   0.  ]\n",
      " [0.48 0.52]\n",
      " [0.36 0.64]\n",
      " [0.68 0.32]\n",
      " [0.52 0.48]\n",
      " [0.56 0.44]\n",
      " [0.96 0.04]\n",
      " [0.52 0.48]\n",
      " [0.64 0.36]\n",
      " [0.6  0.4 ]\n",
      " [0.64 0.36]\n",
      " [0.56 0.44]\n",
      " [0.96 0.04]\n",
      " [0.84 0.16]\n",
      " [0.56 0.44]\n",
      " [0.88 0.12]\n",
      " [0.72 0.28]\n",
      " [0.96 0.04]\n",
      " [0.32 0.68]\n",
      " [0.64 0.36]\n",
      " [0.36 0.64]\n",
      " [0.36 0.64]\n",
      " [0.32 0.68]\n",
      " [0.76 0.24]\n",
      " [0.96 0.04]\n",
      " [0.72 0.28]\n",
      " [0.48 0.52]\n",
      " [0.44 0.56]\n",
      " [0.84 0.16]\n",
      " [0.28 0.72]\n",
      " [0.52 0.48]\n",
      " [0.84 0.16]\n",
      " [0.8  0.2 ]\n",
      " [0.68 0.32]\n",
      " [0.6  0.4 ]\n",
      " [0.84 0.16]\n",
      " [0.4  0.6 ]\n",
      " [0.32 0.68]\n",
      " [0.68 0.32]\n",
      " [1.   0.  ]\n",
      " [0.12 0.88]\n",
      " [0.52 0.48]\n",
      " [0.4  0.6 ]\n",
      " [0.92 0.08]\n",
      " [0.76 0.24]\n",
      " [0.96 0.04]\n",
      " [0.44 0.56]\n",
      " [0.92 0.08]\n",
      " [0.44 0.56]\n",
      " [0.92 0.08]\n",
      " [0.68 0.32]\n",
      " [0.6  0.4 ]\n",
      " [0.68 0.32]\n",
      " [1.   0.  ]\n",
      " [0.52 0.48]]\n"
     ]
    }
   ],
   "source": [
    "# store the predicted probabilities\n",
    "y_pred_prob = model_KNN_tune.predict_proba(X_test)\n",
    "print(y_pred_prob)"
   ]
  },
  {
   "cell_type": "code",
   "execution_count": 41,
   "metadata": {
    "scrolled": true
   },
   "outputs": [
    {
     "name": "stdout",
     "output_type": "stream",
     "text": [
      "Errors at threshold  0.3 : 42  , type 2 error : 13  , type 1 error: 29\n",
      "Errors at threshold  0.31 : 42  , type 2 error : 13  , type 1 error: 29\n",
      "Errors at threshold  0.32 : 36  , type 2 error : 15  , type 1 error: 21\n",
      "Errors at threshold  0.33 : 36  , type 2 error : 15  , type 1 error: 21\n",
      "Errors at threshold  0.34 : 36  , type 2 error : 15  , type 1 error: 21\n",
      "Errors at threshold  0.35000000000000003 : 36  , type 2 error : 15  , type 1 error: 21\n",
      "Errors at threshold  0.36000000000000004 : 36  , type 2 error : 18  , type 1 error: 18\n",
      "Errors at threshold  0.37000000000000005 : 36  , type 2 error : 18  , type 1 error: 18\n",
      "Errors at threshold  0.38000000000000006 : 36  , type 2 error : 18  , type 1 error: 18\n",
      "Errors at threshold  0.39000000000000007 : 36  , type 2 error : 18  , type 1 error: 18\n",
      "Errors at threshold  0.4000000000000001 : 39  , type 2 error : 23  , type 1 error: 16\n",
      "Errors at threshold  0.4100000000000001 : 39  , type 2 error : 23  , type 1 error: 16\n",
      "Errors at threshold  0.4200000000000001 : 39  , type 2 error : 23  , type 1 error: 16\n",
      "Errors at threshold  0.4300000000000001 : 39  , type 2 error : 23  , type 1 error: 16\n",
      "Errors at threshold  0.4400000000000001 : 40  , type 2 error : 28  , type 1 error: 12\n",
      "Errors at threshold  0.4500000000000001 : 40  , type 2 error : 28  , type 1 error: 12\n",
      "Errors at threshold  0.46000000000000013 : 40  , type 2 error : 28  , type 1 error: 12\n",
      "Errors at threshold  0.47000000000000014 : 40  , type 2 error : 28  , type 1 error: 12\n",
      "Errors at threshold  0.48000000000000015 : 40  , type 2 error : 33  , type 1 error: 7\n",
      "Errors at threshold  0.49000000000000016 : 40  , type 2 error : 33  , type 1 error: 7\n",
      "Errors at threshold  0.5000000000000002 : 40  , type 2 error : 33  , type 1 error: 7\n",
      "Errors at threshold  0.5100000000000002 : 40  , type 2 error : 33  , type 1 error: 7\n",
      "Errors at threshold  0.5200000000000002 : 49  , type 2 error : 42  , type 1 error: 7\n",
      "Errors at threshold  0.5300000000000002 : 49  , type 2 error : 42  , type 1 error: 7\n",
      "Errors at threshold  0.5400000000000003 : 49  , type 2 error : 42  , type 1 error: 7\n",
      "Errors at threshold  0.5500000000000003 : 49  , type 2 error : 42  , type 1 error: 7\n",
      "Errors at threshold  0.5600000000000003 : 50  , type 2 error : 44  , type 1 error: 6\n",
      "Errors at threshold  0.5700000000000003 : 50  , type 2 error : 44  , type 1 error: 6\n",
      "Errors at threshold  0.5800000000000003 : 50  , type 2 error : 44  , type 1 error: 6\n",
      "Errors at threshold  0.5900000000000003 : 50  , type 2 error : 44  , type 1 error: 6\n",
      "Errors at threshold  0.6000000000000003 : 51  , type 2 error : 46  , type 1 error: 5\n"
     ]
    }
   ],
   "source": [
    "for a in np.arange(0.3,0.61,0.01):\n",
    "    predict_mine = np.where(y_pred_prob[:,1] > a, 1, 0)\n",
    "    cfm=confusion_matrix(Y_test, predict_mine)\n",
    "    total_err=cfm[0,1]+cfm[1,0]\n",
    "    print(\"Errors at threshold \", a, \":\",total_err, \" , type 2 error :\", \n",
    "          cfm[1,0],\" , type 1 error:\", cfm[0,1])"
   ]
  },
  {
   "cell_type": "code",
   "execution_count": 42,
   "metadata": {},
   "outputs": [
    {
     "name": "stdout",
     "output_type": "stream",
     "text": [
      "[0, 1, 0, 1, 0, 0, 0, 1, 0, 0, 0, 0, 0, 0, 0, 0, 0, 0, 0, 0, 1, 1, 1, 0, 0, 0, 0, 0, 0, 0, 0, 1, 0, 0, 0, 0, 0, 0, 0, 0, 1, 0, 0, 1, 1, 1, 0, 0, 0, 1, 0, 1, 0, 0, 1, 1, 1, 0, 0, 0, 1, 0, 0, 0, 0, 0, 1, 0, 0, 0, 0, 0, 0, 1, 0, 1, 1, 1, 1, 0, 1, 1, 1, 0, 0, 0, 0, 1, 0, 0, 1, 0, 1, 0, 1, 0, 0, 0, 1, 0, 1, 1, 0, 1, 1, 0, 1, 0, 1, 0, 1, 0, 0, 1, 0, 0, 0, 1, 0, 1, 1, 1, 0, 0, 0, 1, 1, 0, 1, 1, 0, 0, 0, 1, 0, 1, 1, 0, 0, 1, 1, 1, 0, 0, 0, 1, 0, 1, 0, 0, 1, 0, 0, 1]\n"
     ]
    }
   ],
   "source": [
    "y_pred_class=[]\n",
    "for value in y_pred_prob[:,1]:\n",
    "    if value > 0.39:\n",
    "        y_pred_class.append(1)\n",
    "    else:\n",
    "        y_pred_class.append(0)\n",
    "print(y_pred_class)"
   ]
  },
  {
   "cell_type": "code",
   "execution_count": 43,
   "metadata": {},
   "outputs": [
    {
     "name": "stdout",
     "output_type": "stream",
     "text": [
      "[[79 18]\n",
      " [18 39]]\n",
      "Accuracy of the model:  0.7662337662337663\n",
      "              precision    recall  f1-score   support\n",
      "\n",
      "         0.0       0.81      0.81      0.81        97\n",
      "         1.0       0.68      0.68      0.68        57\n",
      "\n",
      "    accuracy                           0.77       154\n",
      "   macro avg       0.75      0.75      0.75       154\n",
      "weighted avg       0.77      0.77      0.77       154\n",
      "\n"
     ]
    }
   ],
   "source": [
    "cfm=confusion_matrix(Y_test,y_pred_class)\n",
    "print(cfm)\n",
    "\n",
    "acc=accuracy_score(Y_test, y_pred_class)\n",
    "print(\"Accuracy of the model: \",acc)\n",
    "\n",
    "print(classification_report(Y_test, y_pred_class))"
   ]
  },
  {
   "cell_type": "markdown",
   "metadata": {},
   "source": [
    "## SVM"
   ]
  },
  {
   "cell_type": "code",
   "execution_count": 44,
   "metadata": {},
   "outputs": [],
   "source": [
    "X_train, X_test, Y_train, Y_test = train_test_split(X, Y, test_size=0.2,random_state=10)"
   ]
  },
  {
   "cell_type": "code",
   "execution_count": 45,
   "metadata": {},
   "outputs": [
    {
     "name": "stdout",
     "output_type": "stream",
     "text": [
      "[0.0, 1.0, 0.0, 1.0, 0.0, 0.0, 0.0, 0.0, 0.0, 0.0, 0.0, 0.0, 0.0, 0.0, 0.0, 0.0, 0.0, 0.0, 0.0, 0.0, 0.0, 0.0, 0.0, 0.0, 0.0, 0.0, 0.0, 0.0, 0.0, 0.0, 0.0, 1.0, 0.0, 0.0, 0.0, 0.0, 0.0, 0.0, 0.0, 0.0, 1.0, 0.0, 0.0, 1.0, 1.0, 1.0, 0.0, 0.0, 0.0, 0.0, 0.0, 1.0, 0.0, 0.0, 1.0, 0.0, 0.0, 0.0, 0.0, 0.0, 1.0, 0.0, 0.0, 0.0, 0.0, 0.0, 1.0, 0.0, 0.0, 0.0, 0.0, 0.0, 0.0, 1.0, 0.0, 0.0, 1.0, 1.0, 0.0, 0.0, 1.0, 0.0, 0.0, 0.0, 0.0, 0.0, 0.0, 0.0, 0.0, 0.0, 1.0, 0.0, 0.0, 0.0, 1.0, 0.0, 0.0, 0.0, 0.0, 0.0, 1.0, 1.0, 1.0, 1.0, 1.0, 0.0, 0.0, 0.0, 0.0, 0.0, 0.0, 0.0, 0.0, 0.0, 0.0, 0.0, 0.0, 1.0, 0.0, 1.0, 1.0, 0.0, 0.0, 0.0, 0.0, 1.0, 1.0, 0.0, 1.0, 0.0, 0.0, 0.0, 0.0, 0.0, 0.0, 1.0, 1.0, 0.0, 0.0, 1.0, 1.0, 0.0, 0.0, 0.0, 0.0, 0.0, 0.0, 1.0, 0.0, 0.0, 0.0, 0.0, 0.0, 0.0]\n"
     ]
    }
   ],
   "source": [
    "svc_model=svm.SVC(kernel='rbf',C=10.0,gamma=0.001)\n",
    "\n",
    "svc_model.fit(X_train, Y_train)\n",
    "\n",
    "Y_pred=svc_model.predict(X_test)\n",
    "\n",
    "print(list(Y_pred))"
   ]
  },
  {
   "cell_type": "code",
   "execution_count": 46,
   "metadata": {},
   "outputs": [
    {
     "name": "stdout",
     "output_type": "stream",
     "text": [
      "[[86 11]\n",
      " [35 22]]\n",
      "0.7012987012987013\n",
      "              precision    recall  f1-score   support\n",
      "\n",
      "         0.0       0.71      0.89      0.79        97\n",
      "         1.0       0.67      0.39      0.49        57\n",
      "\n",
      "    accuracy                           0.70       154\n",
      "   macro avg       0.69      0.64      0.64       154\n",
      "weighted avg       0.69      0.70      0.68       154\n",
      "\n"
     ]
    }
   ],
   "source": [
    "print(confusion_matrix(Y_test,Y_pred))\n",
    "print(accuracy_score(Y_test,Y_pred))\n",
    "print(classification_report(Y_test,Y_pred))"
   ]
  },
  {
   "cell_type": "markdown",
   "metadata": {},
   "source": [
    "## Tune SVM"
   ]
  },
  {
   "cell_type": "code",
   "execution_count": 47,
   "metadata": {},
   "outputs": [],
   "source": [
    "X_train, X_test, Y_train, Y_test = train_test_split(X, Y, test_size=0.2,random_state=10)"
   ]
  },
  {
   "cell_type": "code",
   "execution_count": 48,
   "metadata": {},
   "outputs": [],
   "source": [
    "model_SVC_tune=svm.SVC(kernel=\"rbf\", gamma=0.001, C=50)\n",
    "\n",
    "model_SVC_tune.fit(X_train,Y_train)\n",
    "\n",
    "Y_pred=model_SVC_tune.predict(X_test)"
   ]
  },
  {
   "cell_type": "code",
   "execution_count": 49,
   "metadata": {},
   "outputs": [
    {
     "name": "stdout",
     "output_type": "stream",
     "text": [
      "[[85 12]\n",
      " [30 27]]\n",
      "0.7272727272727273\n",
      "              precision    recall  f1-score   support\n",
      "\n",
      "         0.0       0.74      0.88      0.80        97\n",
      "         1.0       0.69      0.47      0.56        57\n",
      "\n",
      "    accuracy                           0.73       154\n",
      "   macro avg       0.72      0.67      0.68       154\n",
      "weighted avg       0.72      0.73      0.71       154\n",
      "\n"
     ]
    }
   ],
   "source": [
    "print(confusion_matrix(Y_test,Y_pred))\n",
    "print(accuracy_score(Y_test,Y_pred))\n",
    "print(classification_report(Y_test,Y_pred))"
   ]
  },
  {
   "cell_type": "markdown",
   "metadata": {},
   "source": [
    "## Decision Tree"
   ]
  },
  {
   "cell_type": "code",
   "execution_count": 50,
   "metadata": {},
   "outputs": [],
   "source": [
    "X_train, X_test, Y_train, Y_test = train_test_split(X, Y, test_size=0.2,random_state=10)"
   ]
  },
  {
   "cell_type": "code",
   "execution_count": 51,
   "metadata": {},
   "outputs": [
    {
     "name": "stdout",
     "output_type": "stream",
     "text": [
      "[0. 1. 0. 1. 0. 0. 1. 0. 0. 0. 0. 0. 0. 0. 1. 0. 0. 0. 0. 0. 0. 1. 1. 0.\n",
      " 0. 0. 0. 1. 0. 0. 0. 1. 0. 0. 1. 0. 0. 0. 0. 0. 0. 0. 0. 0. 0. 1. 0. 0.\n",
      " 0. 0. 1. 1. 0. 1. 1. 0. 0. 0. 0. 0. 1. 0. 0. 0. 0. 0. 1. 0. 0. 0. 1. 0.\n",
      " 0. 1. 0. 1. 1. 1. 0. 0. 0. 0. 1. 0. 0. 0. 0. 1. 0. 1. 1. 0. 0. 0. 1. 0.\n",
      " 1. 0. 1. 0. 1. 1. 1. 0. 0. 0. 1. 0. 0. 0. 1. 0. 0. 1. 1. 0. 0. 1. 0. 0.\n",
      " 1. 1. 0. 0. 0. 1. 1. 0. 1. 1. 1. 0. 0. 1. 1. 1. 1. 1. 0. 1. 1. 1. 0. 0.\n",
      " 0. 0. 0. 1. 0. 0. 0. 0. 1. 0.]\n"
     ]
    }
   ],
   "source": [
    "model_DecisionTree=DecisionTreeClassifier(criterion=\"gini\",random_state=10,splitter=\"best\")\n",
    "\n",
    "model_DecisionTree.fit(X_train,Y_train)\n",
    "Y_pred=model_DecisionTree.predict(X_test)\n",
    "print(Y_pred)"
   ]
  },
  {
   "cell_type": "code",
   "execution_count": 52,
   "metadata": {},
   "outputs": [
    {
     "name": "stdout",
     "output_type": "stream",
     "text": [
      "[[77 20]\n",
      " [24 33]]\n",
      "0.7142857142857143\n",
      "              precision    recall  f1-score   support\n",
      "\n",
      "         0.0       0.76      0.79      0.78        97\n",
      "         1.0       0.62      0.58      0.60        57\n",
      "\n",
      "    accuracy                           0.71       154\n",
      "   macro avg       0.69      0.69      0.69       154\n",
      "weighted avg       0.71      0.71      0.71       154\n",
      "\n"
     ]
    }
   ],
   "source": [
    "print(confusion_matrix(Y_test,Y_pred))\n",
    "print(accuracy_score(Y_test,Y_pred))\n",
    "print(classification_report(Y_test,Y_pred))"
   ]
  },
  {
   "cell_type": "markdown",
   "metadata": {},
   "source": [
    "## Tune Decision Tree"
   ]
  },
  {
   "cell_type": "code",
   "execution_count": 53,
   "metadata": {},
   "outputs": [],
   "source": [
    "X_train, X_test, Y_train, Y_test = train_test_split(X, Y, test_size=0.2,random_state=10)"
   ]
  },
  {
   "cell_type": "code",
   "execution_count": 54,
   "metadata": {},
   "outputs": [
    {
     "name": "stdout",
     "output_type": "stream",
     "text": [
      "[0. 1. 0. 1. 0. 0. 0. 0. 0. 0. 0. 0. 0. 0. 1. 0. 0. 0. 0. 0. 1. 0. 1. 0.\n",
      " 0. 0. 0. 0. 0. 0. 0. 1. 0. 1. 0. 0. 0. 0. 0. 0. 0. 0. 0. 0. 0. 1. 0. 0.\n",
      " 0. 0. 0. 1. 0. 0. 1. 0. 0. 0. 0. 0. 1. 0. 0. 0. 0. 0. 0. 0. 0. 0. 0. 0.\n",
      " 0. 1. 0. 1. 1. 1. 1. 0. 0. 1. 1. 0. 0. 0. 0. 1. 0. 0. 1. 0. 0. 0. 1. 0.\n",
      " 1. 0. 1. 0. 1. 1. 1. 0. 1. 0. 1. 0. 0. 0. 0. 0. 0. 0. 0. 0. 0. 1. 0. 1.\n",
      " 1. 1. 0. 0. 0. 1. 1. 0. 1. 0. 0. 0. 0. 1. 1. 1. 1. 1. 0. 1. 0. 1. 0. 0.\n",
      " 0. 1. 0. 1. 0. 0. 0. 1. 1. 0.]\n"
     ]
    }
   ],
   "source": [
    "model_DecisionTree_tune=DecisionTreeClassifier(criterion=\"gini\",random_state=10,splitter=\"best\",\n",
    "                                         min_samples_leaf=12,max_depth=25,min_samples_split=3,\n",
    "                                         max_leaf_nodes=1000)\n",
    "\n",
    "model_DecisionTree_tune.fit(X_train,Y_train)\n",
    "Y_pred=model_DecisionTree_tune.predict(X_test)\n",
    "print(Y_pred)"
   ]
  },
  {
   "cell_type": "code",
   "execution_count": 55,
   "metadata": {},
   "outputs": [
    {
     "name": "stdout",
     "output_type": "stream",
     "text": [
      "[[84 13]\n",
      " [24 33]]\n",
      "0.7597402597402597\n",
      "              precision    recall  f1-score   support\n",
      "\n",
      "         0.0       0.78      0.87      0.82        97\n",
      "         1.0       0.72      0.58      0.64        57\n",
      "\n",
      "    accuracy                           0.76       154\n",
      "   macro avg       0.75      0.72      0.73       154\n",
      "weighted avg       0.76      0.76      0.75       154\n",
      "\n"
     ]
    }
   ],
   "source": [
    "print(confusion_matrix(Y_test,Y_pred))\n",
    "print(accuracy_score(Y_test,Y_pred))\n",
    "print(classification_report(Y_test,Y_pred))"
   ]
  },
  {
   "cell_type": "code",
   "execution_count": 56,
   "metadata": {},
   "outputs": [
    {
     "name": "stdout",
     "output_type": "stream",
     "text": [
      "[[1.         0.        ]\n",
      " [0.47619048 0.52380952]\n",
      " [1.         0.        ]\n",
      " [0.         1.        ]\n",
      " [1.         0.        ]\n",
      " [1.         0.        ]\n",
      " [0.5        0.5       ]\n",
      " [0.58333333 0.41666667]\n",
      " [0.84615385 0.15384615]\n",
      " [1.         0.        ]\n",
      " [1.         0.        ]\n",
      " [1.         0.        ]\n",
      " [1.         0.        ]\n",
      " [1.         0.        ]\n",
      " [0.41666667 0.58333333]\n",
      " [1.         0.        ]\n",
      " [0.71428571 0.28571429]\n",
      " [1.         0.        ]\n",
      " [1.         0.        ]\n",
      " [1.         0.        ]\n",
      " [0.41666667 0.58333333]\n",
      " [0.5        0.5       ]\n",
      " [0.44444444 0.55555556]\n",
      " [1.         0.        ]\n",
      " [0.66666667 0.33333333]\n",
      " [1.         0.        ]\n",
      " [0.58333333 0.41666667]\n",
      " [0.58333333 0.41666667]\n",
      " [0.84615385 0.15384615]\n",
      " [0.66666667 0.33333333]\n",
      " [1.         0.        ]\n",
      " [0.16666667 0.83333333]\n",
      " [0.88888889 0.11111111]\n",
      " [0.44444444 0.55555556]\n",
      " [0.58333333 0.41666667]\n",
      " [1.         0.        ]\n",
      " [1.         0.        ]\n",
      " [1.         0.        ]\n",
      " [1.         0.        ]\n",
      " [0.76470588 0.23529412]\n",
      " [0.88888889 0.11111111]\n",
      " [1.         0.        ]\n",
      " [0.76470588 0.23529412]\n",
      " [0.66666667 0.33333333]\n",
      " [0.58333333 0.41666667]\n",
      " [0.         1.        ]\n",
      " [1.         0.        ]\n",
      " [0.91666667 0.08333333]\n",
      " [1.         0.        ]\n",
      " [0.58333333 0.41666667]\n",
      " [0.58333333 0.41666667]\n",
      " [0.375      0.625     ]\n",
      " [1.         0.        ]\n",
      " [0.76470588 0.23529412]\n",
      " [0.         1.        ]\n",
      " [0.5        0.5       ]\n",
      " [1.         0.        ]\n",
      " [1.         0.        ]\n",
      " [1.         0.        ]\n",
      " [0.71428571 0.28571429]\n",
      " [0.         1.        ]\n",
      " [1.         0.        ]\n",
      " [1.         0.        ]\n",
      " [0.66666667 0.33333333]\n",
      " [0.58333333 0.41666667]\n",
      " [1.         0.        ]\n",
      " [0.66666667 0.33333333]\n",
      " [0.88888889 0.11111111]\n",
      " [1.         0.        ]\n",
      " [0.84615385 0.15384615]\n",
      " [0.91666667 0.08333333]\n",
      " [0.58333333 0.41666667]\n",
      " [1.         0.        ]\n",
      " [0.         1.        ]\n",
      " [1.         0.        ]\n",
      " [0.16666667 0.83333333]\n",
      " [0.17647059 0.82352941]\n",
      " [0.         1.        ]\n",
      " [0.41666667 0.58333333]\n",
      " [1.         0.        ]\n",
      " [0.66666667 0.33333333]\n",
      " [0.14285714 0.85714286]\n",
      " [0.14285714 0.85714286]\n",
      " [1.         0.        ]\n",
      " [0.71428571 0.28571429]\n",
      " [0.84615385 0.15384615]\n",
      " [1.         0.        ]\n",
      " [0.44444444 0.55555556]\n",
      " [0.66666667 0.33333333]\n",
      " [0.76470588 0.23529412]\n",
      " [0.         1.        ]\n",
      " [1.         0.        ]\n",
      " [0.84615385 0.15384615]\n",
      " [0.58333333 0.41666667]\n",
      " [0.17647059 0.82352941]\n",
      " [1.         0.        ]\n",
      " [0.44444444 0.55555556]\n",
      " [1.         0.        ]\n",
      " [0.44444444 0.55555556]\n",
      " [1.         0.        ]\n",
      " [0.07692308 0.92307692]\n",
      " [0.375      0.625     ]\n",
      " [0.14285714 0.85714286]\n",
      " [0.66666667 0.33333333]\n",
      " [0.17647059 0.82352941]\n",
      " [1.         0.        ]\n",
      " [0.14285714 0.85714286]\n",
      " [0.76470588 0.23529412]\n",
      " [1.         0.        ]\n",
      " [0.84615385 0.15384615]\n",
      " [0.5        0.5       ]\n",
      " [1.         0.        ]\n",
      " [1.         0.        ]\n",
      " [0.66666667 0.33333333]\n",
      " [0.76470588 0.23529412]\n",
      " [0.76470588 0.23529412]\n",
      " [1.         0.        ]\n",
      " [0.         1.        ]\n",
      " [1.         0.        ]\n",
      " [0.4375     0.5625    ]\n",
      " [0.17647059 0.82352941]\n",
      " [0.44444444 0.55555556]\n",
      " [0.88888889 0.11111111]\n",
      " [1.         0.        ]\n",
      " [0.69230769 0.30769231]\n",
      " [0.375      0.625     ]\n",
      " [0.         1.        ]\n",
      " [0.76470588 0.23529412]\n",
      " [0.         1.        ]\n",
      " [0.66666667 0.33333333]\n",
      " [0.66666667 0.33333333]\n",
      " [0.66666667 0.33333333]\n",
      " [1.         0.        ]\n",
      " [0.47619048 0.52380952]\n",
      " [0.44444444 0.55555556]\n",
      " [0.         1.        ]\n",
      " [0.4375     0.5625    ]\n",
      " [0.44444444 0.55555556]\n",
      " [1.         0.        ]\n",
      " [0.16666667 0.83333333]\n",
      " [0.66666667 0.33333333]\n",
      " [0.44444444 0.55555556]\n",
      " [0.76470588 0.23529412]\n",
      " [1.         0.        ]\n",
      " [1.         0.        ]\n",
      " [0.4375     0.5625    ]\n",
      " [1.         0.        ]\n",
      " [0.375      0.625     ]\n",
      " [1.         0.        ]\n",
      " [0.88888889 0.11111111]\n",
      " [1.         0.        ]\n",
      " [0.44444444 0.55555556]\n",
      " [0.44444444 0.55555556]\n",
      " [0.76470588 0.23529412]]\n"
     ]
    }
   ],
   "source": [
    "# store the predicted probabilities\n",
    "y_pred_prob = model_DecisionTree_tune.predict_proba(X_test)\n",
    "print(y_pred_prob)"
   ]
  },
  {
   "cell_type": "code",
   "execution_count": 57,
   "metadata": {
    "scrolled": true
   },
   "outputs": [
    {
     "name": "stdout",
     "output_type": "stream",
     "text": [
      "Errors at threshold  0.3 : 43  , type 2 error : 13  , type 1 error: 30\n",
      "Errors at threshold  0.31 : 44  , type 2 error : 14  , type 1 error: 30\n",
      "Errors at threshold  0.32 : 44  , type 2 error : 14  , type 1 error: 30\n",
      "Errors at threshold  0.33 : 44  , type 2 error : 14  , type 1 error: 30\n",
      "Errors at threshold  0.34 : 39  , type 2 error : 18  , type 1 error: 21\n",
      "Errors at threshold  0.35000000000000003 : 39  , type 2 error : 18  , type 1 error: 21\n",
      "Errors at threshold  0.36000000000000004 : 39  , type 2 error : 18  , type 1 error: 21\n",
      "Errors at threshold  0.37000000000000005 : 39  , type 2 error : 18  , type 1 error: 21\n",
      "Errors at threshold  0.38000000000000006 : 39  , type 2 error : 18  , type 1 error: 21\n",
      "Errors at threshold  0.39000000000000007 : 39  , type 2 error : 18  , type 1 error: 21\n",
      "Errors at threshold  0.4000000000000001 : 39  , type 2 error : 18  , type 1 error: 21\n",
      "Errors at threshold  0.4100000000000001 : 39  , type 2 error : 18  , type 1 error: 21\n",
      "Errors at threshold  0.4200000000000001 : 33  , type 2 error : 20  , type 1 error: 13\n",
      "Errors at threshold  0.4300000000000001 : 33  , type 2 error : 20  , type 1 error: 13\n",
      "Errors at threshold  0.4400000000000001 : 33  , type 2 error : 20  , type 1 error: 13\n",
      "Errors at threshold  0.4500000000000001 : 33  , type 2 error : 20  , type 1 error: 13\n",
      "Errors at threshold  0.46000000000000013 : 33  , type 2 error : 20  , type 1 error: 13\n",
      "Errors at threshold  0.47000000000000014 : 33  , type 2 error : 20  , type 1 error: 13\n",
      "Errors at threshold  0.48000000000000015 : 33  , type 2 error : 20  , type 1 error: 13\n",
      "Errors at threshold  0.49000000000000016 : 33  , type 2 error : 20  , type 1 error: 13\n",
      "Errors at threshold  0.5000000000000002 : 37  , type 2 error : 24  , type 1 error: 13\n",
      "Errors at threshold  0.5100000000000002 : 37  , type 2 error : 24  , type 1 error: 13\n",
      "Errors at threshold  0.5200000000000002 : 37  , type 2 error : 24  , type 1 error: 13\n",
      "Errors at threshold  0.5300000000000002 : 39  , type 2 error : 26  , type 1 error: 13\n",
      "Errors at threshold  0.5400000000000003 : 39  , type 2 error : 26  , type 1 error: 13\n",
      "Errors at threshold  0.5500000000000003 : 39  , type 2 error : 26  , type 1 error: 13\n",
      "Errors at threshold  0.5600000000000003 : 42  , type 2 error : 33  , type 1 error: 9\n",
      "Errors at threshold  0.5700000000000003 : 45  , type 2 error : 36  , type 1 error: 9\n",
      "Errors at threshold  0.5800000000000003 : 45  , type 2 error : 36  , type 1 error: 9\n",
      "Errors at threshold  0.5900000000000003 : 46  , type 2 error : 38  , type 1 error: 8\n",
      "Errors at threshold  0.6000000000000003 : 46  , type 2 error : 38  , type 1 error: 8\n"
     ]
    }
   ],
   "source": [
    "for a in np.arange(0.3,0.61,0.01):\n",
    "    predict_mine = np.where(y_pred_prob[:,1] > a, 1, 0)\n",
    "    cfm=confusion_matrix(Y_test, predict_mine)\n",
    "    total_err=cfm[0,1]+cfm[1,0]\n",
    "    print(\"Errors at threshold \", a, \":\",total_err, \" , type 2 error :\", \n",
    "          cfm[1,0],\" , type 1 error:\", cfm[0,1])"
   ]
  },
  {
   "cell_type": "code",
   "execution_count": 58,
   "metadata": {},
   "outputs": [
    {
     "name": "stdout",
     "output_type": "stream",
     "text": [
      "[0, 1, 0, 1, 0, 0, 1, 0, 0, 0, 0, 0, 0, 0, 1, 0, 0, 0, 0, 0, 1, 1, 1, 0, 0, 0, 0, 0, 0, 0, 0, 1, 0, 1, 0, 0, 0, 0, 0, 0, 0, 0, 0, 0, 0, 1, 0, 0, 0, 0, 0, 1, 0, 0, 1, 1, 0, 0, 0, 0, 1, 0, 0, 0, 0, 0, 0, 0, 0, 0, 0, 0, 0, 1, 0, 1, 1, 1, 1, 0, 0, 1, 1, 0, 0, 0, 0, 1, 0, 0, 1, 0, 0, 0, 1, 0, 1, 0, 1, 0, 1, 1, 1, 0, 1, 0, 1, 0, 0, 0, 1, 0, 0, 0, 0, 0, 0, 1, 0, 1, 1, 1, 0, 0, 0, 1, 1, 0, 1, 0, 0, 0, 0, 1, 1, 1, 1, 1, 0, 1, 0, 1, 0, 0, 0, 1, 0, 1, 0, 0, 0, 1, 1, 0]\n"
     ]
    }
   ],
   "source": [
    "y_pred_class=[]\n",
    "for value in y_pred_prob[:,1]:\n",
    "    if value > 0.49:\n",
    "        y_pred_class.append(1)\n",
    "    else:\n",
    "        y_pred_class.append(0)\n",
    "print(y_pred_class)"
   ]
  },
  {
   "cell_type": "code",
   "execution_count": 59,
   "metadata": {},
   "outputs": [
    {
     "name": "stdout",
     "output_type": "stream",
     "text": [
      "[[84 13]\n",
      " [20 37]]\n",
      "0.7857142857142857\n",
      "              precision    recall  f1-score   support\n",
      "\n",
      "         0.0       0.81      0.87      0.84        97\n",
      "         1.0       0.74      0.65      0.69        57\n",
      "\n",
      "    accuracy                           0.79       154\n",
      "   macro avg       0.77      0.76      0.76       154\n",
      "weighted avg       0.78      0.79      0.78       154\n",
      "\n"
     ]
    }
   ],
   "source": [
    "print(confusion_matrix(Y_test,y_pred_class))\n",
    "print(accuracy_score(Y_test,y_pred_class))\n",
    "print(classification_report(Y_test,y_pred_class))"
   ]
  },
  {
   "cell_type": "markdown",
   "metadata": {},
   "source": [
    "## Random Forest"
   ]
  },
  {
   "cell_type": "code",
   "execution_count": 70,
   "metadata": {},
   "outputs": [],
   "source": [
    "X_train, X_test, Y_train, Y_test = train_test_split(X, Y, test_size=0.2,random_state=10)"
   ]
  },
  {
   "cell_type": "code",
   "execution_count": 71,
   "metadata": {},
   "outputs": [],
   "source": [
    "model_RandomForest=RandomForestClassifier(n_estimators=10, random_state=10)\n",
    "\n",
    "model_RandomForest.fit(X_train,Y_train)\n",
    "\n",
    "Y_pred=model_RandomForest.predict(X_test)"
   ]
  },
  {
   "cell_type": "code",
   "execution_count": 72,
   "metadata": {},
   "outputs": [
    {
     "name": "stdout",
     "output_type": "stream",
     "text": [
      "[[86 11]\n",
      " [30 27]]\n",
      "0.7337662337662337\n",
      "              precision    recall  f1-score   support\n",
      "\n",
      "         0.0       0.74      0.89      0.81        97\n",
      "         1.0       0.71      0.47      0.57        57\n",
      "\n",
      "    accuracy                           0.73       154\n",
      "   macro avg       0.73      0.68      0.69       154\n",
      "weighted avg       0.73      0.73      0.72       154\n",
      "\n"
     ]
    }
   ],
   "source": [
    "print(confusion_matrix(Y_test,Y_pred))\n",
    "print(accuracy_score(Y_test,Y_pred))\n",
    "print(classification_report(Y_test,Y_pred))"
   ]
  },
  {
   "cell_type": "markdown",
   "metadata": {},
   "source": [
    "## Tune Random Forest"
   ]
  },
  {
   "cell_type": "code",
   "execution_count": 73,
   "metadata": {},
   "outputs": [],
   "source": [
    "X_train, X_test, Y_train, Y_test = train_test_split(X, Y, test_size=0.2,random_state=10)"
   ]
  },
  {
   "cell_type": "code",
   "execution_count": 74,
   "metadata": {},
   "outputs": [],
   "source": [
    "model_RandomForest_tune=RandomForestClassifier(n_estimators=11, random_state=10)\n",
    "\n",
    "model_RandomForest_tune.fit(X_train,Y_train)\n",
    "\n",
    "Y_pred=model_RandomForest_tune.predict(X_test)"
   ]
  },
  {
   "cell_type": "code",
   "execution_count": 75,
   "metadata": {},
   "outputs": [
    {
     "name": "stdout",
     "output_type": "stream",
     "text": [
      "[[84 13]\n",
      " [26 31]]\n",
      "0.7467532467532467\n",
      "              precision    recall  f1-score   support\n",
      "\n",
      "         0.0       0.76      0.87      0.81        97\n",
      "         1.0       0.70      0.54      0.61        57\n",
      "\n",
      "    accuracy                           0.75       154\n",
      "   macro avg       0.73      0.70      0.71       154\n",
      "weighted avg       0.74      0.75      0.74       154\n",
      "\n"
     ]
    }
   ],
   "source": [
    "print(confusion_matrix(Y_test,Y_pred))\n",
    "print(accuracy_score(Y_test,Y_pred))\n",
    "print(classification_report(Y_test,Y_pred))"
   ]
  },
  {
   "cell_type": "markdown",
   "metadata": {},
   "source": [
    "## Ensemble Modelling"
   ]
  },
  {
   "cell_type": "code",
   "execution_count": 66,
   "metadata": {},
   "outputs": [],
   "source": [
    "X_train, X_test, Y_train, Y_test = train_test_split(X, Y, test_size=0.2,random_state=10)"
   ]
  },
  {
   "cell_type": "code",
   "execution_count": 67,
   "metadata": {
    "scrolled": true
   },
   "outputs": [
    {
     "name": "stdout",
     "output_type": "stream",
     "text": [
      "[0. 1. 0. 1. 0. 0. 0. 0. 0. 0. 0. 0. 0. 0. 0. 0. 0. 0. 0. 0. 0. 0. 1. 0.\n",
      " 0. 0. 0. 0. 0. 0. 0. 1. 0. 0. 0. 0. 0. 0. 0. 0. 1. 0. 0. 1. 0. 1. 0. 0.\n",
      " 0. 0. 0. 1. 0. 0. 1. 0. 0. 0. 0. 0. 1. 0. 0. 0. 0. 0. 1. 0. 0. 0. 0. 0.\n",
      " 0. 1. 0. 1. 1. 1. 0. 0. 1. 0. 1. 0. 0. 0. 0. 1. 0. 0. 1. 0. 0. 0. 1. 0.\n",
      " 1. 0. 1. 0. 1. 1. 1. 1. 1. 0. 1. 0. 0. 0. 0. 0. 0. 0. 0. 0. 0. 1. 0. 1.\n",
      " 1. 1. 0. 0. 0. 1. 1. 0. 1. 0. 0. 0. 0. 1. 0. 1. 1. 0. 0. 1. 1. 1. 0. 0.\n",
      " 0. 1. 0. 1. 0. 0. 0. 0. 0. 0.]\n"
     ]
    }
   ],
   "source": [
    "estimators = []\n",
    "model1 = LogisticRegression()\n",
    "estimators.append(('log', model1))\n",
    "\n",
    "\n",
    "\n",
    "model2=SGDClassifier(loss=\"log\",random_state=10,alpha=0.01,max_iter=1000, shuffle=True,early_stopping=True, \n",
    "                     n_iter_no_change=2)\n",
    "estimators.append(('sgd', model2))\n",
    "\n",
    "\n",
    "\n",
    "model3 = KNeighborsClassifier(n_neighbors=25,metric='euclidean')\n",
    "estimators.append(('knn', model3))\n",
    "\n",
    "\n",
    "\n",
    "# model4 = svm.SVC(kernel=\"rbf\", gamma=0.001, C=50)\n",
    "# estimators.append(('svm', model4))\n",
    "\n",
    "\n",
    "\n",
    "model5 = DecisionTreeClassifier(criterion=\"gini\",random_state=10,splitter=\"best\",min_samples_leaf=12,max_depth=25\n",
    "                                ,min_samples_split=3,max_leaf_nodes=1000)\n",
    "estimators.append(('cart', model5))\n",
    "\n",
    "\n",
    "\n",
    "model6=RandomForestClassifier(n_estimators=11, random_state=10)\n",
    "estimators.append(('rt', model6))\n",
    "\n",
    "\n",
    "\n",
    "# create the ensemble model\n",
    "ensemble = VotingClassifier(estimators)\n",
    "ensemble.fit(X_train,Y_train)\n",
    "Y_pred=ensemble.predict(X_test)\n",
    "print(Y_pred)"
   ]
  },
  {
   "cell_type": "code",
   "execution_count": 68,
   "metadata": {},
   "outputs": [
    {
     "name": "stdout",
     "output_type": "stream",
     "text": [
      "[[87 10]\n",
      " [24 33]]\n",
      "0.7792207792207793\n",
      "              precision    recall  f1-score   support\n",
      "\n",
      "         0.0       0.78      0.90      0.84        97\n",
      "         1.0       0.77      0.58      0.66        57\n",
      "\n",
      "    accuracy                           0.78       154\n",
      "   macro avg       0.78      0.74      0.75       154\n",
      "weighted avg       0.78      0.78      0.77       154\n",
      "\n"
     ]
    }
   ],
   "source": [
    "print(confusion_matrix(Y_test,Y_pred))\n",
    "print(accuracy_score(Y_test,Y_pred))\n",
    "print(classification_report(Y_test,Y_pred))"
   ]
  },
  {
   "cell_type": "markdown",
   "metadata": {},
   "source": [
    "## K-Fold Validation"
   ]
  },
  {
   "cell_type": "code",
   "execution_count": 69,
   "metadata": {},
   "outputs": [
    {
     "name": "stdout",
     "output_type": "stream",
     "text": [
      "[0.75       0.80681818 0.77272727 0.71590909 0.71590909 0.81609195\n",
      " 0.68965517]\n",
      "0.7524443946857738\n"
     ]
    }
   ],
   "source": [
    "model_DecisionTree_tune=DecisionTreeClassifier(criterion=\"gini\",random_state=10,splitter=\"best\",\n",
    "                                         min_samples_leaf=12,max_depth=25,min_samples_split=3,\n",
    "                                         max_leaf_nodes=1000)\n",
    "\n",
    "#performing kfold_cross_validation\n",
    "kfold_cv=KFold(n_splits=7,random_state=10)\n",
    "#print(kfold_cv)\n",
    "\n",
    "#running the model using scoring metric as accuracy\n",
    "kfold_cv_result=cross_val_score(estimator=model_DecisionTree_tune,X=X_train,\n",
    "y=Y_train, cv=kfold_cv)\n",
    "print(kfold_cv_result)\n",
    "\n",
    "#finding the mean\n",
    "print(kfold_cv_result.mean())"
   ]
  },
  {
   "cell_type": "markdown",
   "metadata": {},
   "source": [
    "## Dumping all Models"
   ]
  },
  {
   "cell_type": "code",
   "execution_count": 77,
   "metadata": {},
   "outputs": [],
   "source": [
    "## saving model:\n",
    "pickle.dump(classifier,open(r'C:\\Users\\VISHAL\\Web Deployment\\Diabeties\\models\\log.pkl','wb'))\n",
    "pickle.dump(classifier_SGD,open(r'C:\\Users\\VISHAL\\Web Deployment\\Diabeties\\models\\sgd.pkl','wb'))\n",
    "pickle.dump(classifier_SGD_tune,open(r'C:\\Users\\VISHAL\\Web Deployment\\Diabeties\\models\\sgd_tune.pkl','wb'))\n",
    "pickle.dump(model_KNN,open(r'C:\\Users\\VISHAL\\Web Deployment\\Diabeties\\models\\knn.pkl','wb'))\n",
    "pickle.dump(model_KNN_tune,open(r'C:\\Users\\VISHAL\\Web Deployment\\Diabeties\\models\\knn_tune.pkl','wb'))\n",
    "pickle.dump(svc_model,open(r'C:\\Users\\VISHAL\\Web Deployment\\Diabeties\\models\\svc.pkl','wb'))\n",
    "pickle.dump(model_SVC_tune,open(r'C:\\Users\\VISHAL\\Web Deployment\\Diabeties\\models\\svc_tune.pkl','wb'))\n",
    "pickle.dump(model_DecisionTree,open(r'C:\\Users\\VISHAL\\Web Deployment\\Diabeties\\models\\dt.pkl','wb'))\n",
    "pickle.dump(model_DecisionTree_tune,open(r'C:\\Users\\VISHAL\\Web Deployment\\Diabeties\\models\\dt_tune.pkl','wb'))\n",
    "pickle.dump(model_RandomForest,open(r'C:\\Users\\VISHAL\\Web Deployment\\Diabeties\\models\\rt.pkl','wb'))\n",
    "pickle.dump(model_RandomForest_tune,open(r'C:\\Users\\VISHAL\\Web Deployment\\Diabeties\\models\\rt_tune.pkl','wb'))\n",
    "pickle.dump(ensemble,open(r'C:\\Users\\VISHAL\\Web Deployment\\Diabeties\\models\\ensemble.pkl','wb'))"
   ]
  },
  {
   "cell_type": "code",
   "execution_count": null,
   "metadata": {},
   "outputs": [],
   "source": []
  }
 ],
 "metadata": {
  "kernelspec": {
   "display_name": "Python 3",
   "language": "python",
   "name": "python3"
  },
  "language_info": {
   "codemirror_mode": {
    "name": "ipython",
    "version": 3
   },
   "file_extension": ".py",
   "mimetype": "text/x-python",
   "name": "python",
   "nbconvert_exporter": "python",
   "pygments_lexer": "ipython3",
   "version": "3.7.6"
  }
 },
 "nbformat": 4,
 "nbformat_minor": 4
}
